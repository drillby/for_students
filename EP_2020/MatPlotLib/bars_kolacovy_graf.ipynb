{
 "cells": [
  {
   "cell_type": "code",
   "execution_count": null,
   "metadata": {},
   "outputs": [],
   "source": [
    "! pip install matplotlib"
   ]
  },
  {
   "cell_type": "code",
   "execution_count": null,
   "metadata": {},
   "outputs": [],
   "source": [
    "import matplotlib.pyplot as plt\n",
    "import numpy as np"
   ]
  },
  {
   "attachments": {},
   "cell_type": "markdown",
   "metadata": {},
   "source": [
    "# Sloupce\n",
    "## Verikální sloupce\n",
    "Vertikální sloupce se vykreslí pomocí funkce bar(). Funkce bar() bere 2 argumenty, které definují rozložení grafu. "
   ]
  },
  {
   "cell_type": "code",
   "execution_count": null,
   "metadata": {},
   "outputs": [],
   "source": [
    "x = np.array([\"A\", \"B\", \"C\", \"D\"])\n",
    "y = np.array([3, 8, 1, 10])\n",
    "# délky polí musí být stejné\n",
    "\n",
    "plt.bar(x,y)\n",
    "plt.show()"
   ]
  },
  {
   "cell_type": "code",
   "execution_count": null,
   "metadata": {},
   "outputs": [],
   "source": [
    "x = [\"JABLKA\", \"BANÁNY\"]\n",
    "y = [400, 350]\n",
    "\n",
    "\n",
    "plt.bar(x, y)\n",
    "plt.show()"
   ]
  },
  {
   "attachments": {},
   "cell_type": "markdown",
   "metadata": {},
   "source": [
    "## Horizontální sloupce\n",
    "Vertikální sloupce se vykreslí pomocí funkce barh(). Funkce bar() bere 2 argumenty, které definují rozložení grafu."
   ]
  },
  {
   "cell_type": "code",
   "execution_count": null,
   "metadata": {},
   "outputs": [],
   "source": [
    "x = np.array([\"A\", \"B\", \"C\", \"D\"])\n",
    "y = np.array([3, 8, 1, 10])\n",
    "\n",
    "plt.barh(x, y)\n",
    "plt.show()"
   ]
  },
  {
   "attachments": {},
   "cell_type": "markdown",
   "metadata": {},
   "source": [
    "## Barvy\n",
    "Barvy se dají měnit pomocí argumentu c(color). Hodnoty tohoto argumentu můžou být hexdec označení barvy, standardizovaný název barvy podle W3, nebo přednastavené označení matplotlib"
   ]
  },
  {
   "cell_type": "code",
   "execution_count": null,
   "metadata": {},
   "outputs": [],
   "source": [
    "plt.bar(x, y, color=\"red\")\n",
    "plt.show()"
   ]
  },
  {
   "cell_type": "code",
   "execution_count": null,
   "metadata": {},
   "outputs": [],
   "source": [
    "plt.bar(x, y, color=\"#C8AAF4\")\n",
    "plt.show()"
   ]
  },
  {
   "cell_type": "code",
   "execution_count": null,
   "metadata": {},
   "outputs": [],
   "source": [
    "plt.bar(x, y, color=\"g\")\n",
    "plt.show()"
   ]
  },
  {
   "attachments": {},
   "cell_type": "markdown",
   "metadata": {},
   "source": [
    "## Šírka sloupců\n",
    "Můžeme nastavovat i samostatnou šířku sloupce pomocí argumentu width. Základní hodnota je 0.8."
   ]
  },
  {
   "cell_type": "code",
   "execution_count": null,
   "metadata": {},
   "outputs": [],
   "source": [
    "plt.bar(x, y, width = 0.1)\n",
    "plt.show()"
   ]
  },
  {
   "attachments": {},
   "cell_type": "markdown",
   "metadata": {},
   "source": [
    "Pro horizonální hrafy se používá height místo width."
   ]
  },
  {
   "cell_type": "code",
   "execution_count": null,
   "metadata": {},
   "outputs": [],
   "source": [
    "plt.barh(x, y, height=0.1)\n",
    "plt.show()"
   ]
  },
  {
   "attachments": {},
   "cell_type": "markdown",
   "metadata": {},
   "source": [
    "# Histrogram\n",
    "Histogram je graf, který zobrazuje distribuci.\n",
    "\n",
    "Je to graf, ketrý zobrazuje počet měření pro daný interval.\n",
    "\n",
    "Pro vytvoření histogramu se používá funkce hist(), tato funkce bere jeden argument a to pole hodnot pro které se má histogram vytvořit"
   ]
  },
  {
   "cell_type": "code",
   "execution_count": null,
   "metadata": {},
   "outputs": [],
   "source": [
    "# dejme tomu, že máme změřenou výšku 250 lidí a chceme tyto data zobrazit v histogramu\n",
    "\n",
    "# místo měření použijeme funkci random.normal v knihovně numpy\n",
    "# tato funkce bere 3 argumenty základní hodnotu, směrodatnou odchylku a počet hodnot kolik cheme\n",
    "x = np.random.normal(170, 10, 250)\n",
    "\n",
    "plt.hist(x)\n",
    "plt.show()"
   ]
  },
  {
   "attachments": {},
   "cell_type": "markdown",
   "metadata": {},
   "source": [
    "# Koláčový graf\n",
    "Pro vytvoření koláčového grafu se používá funkce pie(). Tato funkce bere 1 argument a to pole s poměry kolik místa má v grafu \"zabrat\""
   ]
  },
  {
   "cell_type": "code",
   "execution_count": null,
   "metadata": {},
   "outputs": [],
   "source": [
    "y = np.array([35, 25, 25, 15])\n",
    "\n",
    "plt.pie(y)\n",
    "plt.show() "
   ]
  },
  {
   "attachments": {},
   "cell_type": "markdown",
   "metadata": {},
   "source": [
    "V základu se začátek grafu vykreslí na osu x a postupuje proti směru hodinuvých ručiček.\n",
    "\n",
    "Velikost každého bloku je vyhodnocena porovnáním hodnoty se všemi ostatními pomocí tohoto vzorečku: x/sum(x)"
   ]
  },
  {
   "attachments": {},
   "cell_type": "markdown",
   "metadata": {},
   "source": [
    "## Popisky\n",
    "Popisky se ke každému kusu koláče přidají pomocí argumetu labels"
   ]
  },
  {
   "cell_type": "code",
   "execution_count": null,
   "metadata": {},
   "outputs": [],
   "source": [
    "y = np.array([35, 25, 25, 15])\n",
    "popisky = [\"Jablko\", \"Banán\", \"Meruňky\", \"Borůvky\"]\n",
    "# popisky musí být pole o stejné délce jako zadávané hodnoty\n",
    "\n",
    "plt.pie(y, labels=popisky)\n",
    "plt.show() "
   ]
  },
  {
   "attachments": {},
   "cell_type": "markdown",
   "metadata": {},
   "source": [
    "## Začínající úhel\n",
    "Jak už bylo zmíněno, tak graf začíná na ose x.\n",
    "\n",
    "Tento začátek se dá upravit pomocí argumentu startangle, hodnota tohoto argumetnu nemá žádné omezení, ale nedává smysl používat jiná čísla než v rozsahu 0 až 360"
   ]
  },
  {
   "cell_type": "code",
   "execution_count": null,
   "metadata": {},
   "outputs": [],
   "source": [
    "y = np.array([35, 25, 25, 15])\n",
    "popisky = [\"Jablko\", \"Banán\", \"Meruňky\", \"Borůvky\"]\n",
    "\n",
    "plt.pie(y, labels=popisky, startangle=90)\n",
    "plt.show()"
   ]
  },
  {
   "attachments": {},
   "cell_type": "markdown",
   "metadata": {},
   "source": [
    "## Zvýraznění části grafu\n",
    "K výraznění části grafu se používá argument explode, tento argument je pole o stejné délce jako je počet částí grafu.\n",
    "\n",
    "Každá hodnota tohoto pole je hodnota o kolik má daná část grafu \"vystoupit\"."
   ]
  },
  {
   "cell_type": "code",
   "execution_count": null,
   "metadata": {},
   "outputs": [],
   "source": [
    "y = np.array([35, 25, 25, 15])\n",
    "popisky = [\"Jablko\", \"Banán\", \"Meruňky\", \"Borůvky\"]\n",
    "zvyrazneni = [0.2, 0, 0, 0]\n",
    "\n",
    "plt.pie(y, labels=popisky, explode=zvyrazneni)\n",
    "plt.show() "
   ]
  },
  {
   "attachments": {},
   "cell_type": "markdown",
   "metadata": {},
   "source": [
    "## Stín\n",
    "Stín se nastavuje na celý graf zároveň pomocí argumetu shadow, je to bool hodnota"
   ]
  },
  {
   "cell_type": "code",
   "execution_count": null,
   "metadata": {},
   "outputs": [],
   "source": [
    "y = np.array([35, 25, 25, 15])\n",
    "popisky = [\"Jablko\", \"Banán\", \"Meruňky\", \"Borůvky\"]\n",
    "zvyrazneni = [0.2, 0, 0, 0]\n",
    "\n",
    "plt.pie(y, labels=popisky, explode=zvyrazneni, shadow=True)\n",
    "plt.show() "
   ]
  },
  {
   "attachments": {},
   "cell_type": "markdown",
   "metadata": {},
   "source": [
    "## Barvy\n",
    "Barvy se specifikují pomocí argumetu colors."
   ]
  },
  {
   "cell_type": "code",
   "execution_count": null,
   "metadata": {},
   "outputs": [],
   "source": [
    "y = np.array([35, 25, 25, 15])\n",
    "popisky = [\"Jablko\", \"Banán\", \"Meruňky\", \"Borůvky\"]\n",
    "barvy = [\"black\", \"hotpink\", \"b\", \"#4CAF50\"]\n",
    "\n",
    "plt.pie(y, labels=popisky, colors=barvy)\n",
    "plt.show() "
   ]
  },
  {
   "attachments": {},
   "cell_type": "markdown",
   "metadata": {},
   "source": [
    "## Legenda\n",
    "Pro zobrazení legendy se pužívá funkce legend(). Abychom byli schopni zobrazit legendu, musíme mít nastaveny také labels"
   ]
  },
  {
   "cell_type": "code",
   "execution_count": null,
   "metadata": {},
   "outputs": [],
   "source": [
    "y = np.array([35, 25, 25, 15])\n",
    "popisky = [\"Jablko\", \"Banán\", \"Meruňky\", \"Borůvky\"]\n",
    "\n",
    "plt.pie(y, labels=popisky)\n",
    "plt.legend()\n",
    "plt.show() "
   ]
  },
  {
   "attachments": {},
   "cell_type": "markdown",
   "metadata": {},
   "source": [
    "### Nadpis legendy\n",
    "Pro nadpis legendy se používá atribut tittle ve funkci legend"
   ]
  },
  {
   "cell_type": "code",
   "execution_count": null,
   "metadata": {},
   "outputs": [],
   "source": [
    "y = np.array([35, 25, 25, 15])\n",
    "popisky = [\"Jablko\", \"Banán\", \"Meruňky\", \"Borůvky\"]\n",
    "\n",
    "plt.pie(y, labels = popisky)\n",
    "plt.legend(title=\"Ovoce:\")\n",
    "plt.show()"
   ]
  }
 ],
 "metadata": {
  "language_info": {
   "name": "python"
  },
  "orig_nbformat": 4
 },
 "nbformat": 4,
 "nbformat_minor": 2
}
