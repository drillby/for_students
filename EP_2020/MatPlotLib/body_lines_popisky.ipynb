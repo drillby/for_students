{
  "cells": [
    {
      "cell_type": "code",
      "execution_count": null,
      "metadata": {
        "id": "Gm7pQo186pCM"
      },
      "outputs": [],
      "source": [
        "! pip install matplotlib"
      ]
    },
    {
      "cell_type": "markdown",
      "metadata": {
        "id": "RSnXMzwT6pCO"
      },
      "source": [
        "# Markers\n",
        "Jsou samotné body které předáváme funkci plot() na vykreslení"
      ]
    },
    {
      "cell_type": "code",
      "execution_count": 2,
      "metadata": {
        "id": "7yploEfP6pCT"
      },
      "outputs": [],
      "source": [
        "import matplotlib.pyplot as plt\n",
        "import numpy as np\n",
        "\n",
        "xpoints = np.array([1, 2, 6, 8])\n",
        "ypoints = np.array([3, 8, 1, 10])"
      ]
    },
    {
      "cell_type": "markdown",
      "metadata": {
        "id": "OYpHlRhJ6pCU"
      },
      "source": [
        "Ukázali jsme si možnost vykreslení samostatné čáry"
      ]
    },
    {
      "cell_type": "code",
      "execution_count": null,
      "metadata": {
        "id": "0j9lFUBt6pCV"
      },
      "outputs": [],
      "source": [
        "plt.plot(xpoints, ypoints)\n",
        "plt.show()"
      ]
    },
    {
      "cell_type": "markdown",
      "metadata": {
        "id": "Lbk4CYy16pCV"
      },
      "source": [
        "A možnost zobrazit pouze body"
      ]
    },
    {
      "cell_type": "code",
      "execution_count": null,
      "metadata": {
        "id": "VEIWKc1K6pCW"
      },
      "outputs": [],
      "source": [
        "plt.plot(xpoints, ypoints, \"o\")\n",
        "plt.show()"
      ]
    },
    {
      "cell_type": "markdown",
      "metadata": {
        "id": "Tt8Wr30t6pCW"
      },
      "source": [
        "Abychom zobrazili jak čáru, tak body specifikujeme keyword argumet marker a nastavíme mu nějakou hodnotu"
      ]
    },
    {
      "cell_type": "code",
      "execution_count": null,
      "metadata": {
        "id": "PfLt_T1L6pCW"
      },
      "outputs": [],
      "source": [
        "plt.plot(xpoints, ypoints, marker=\"o\")\n",
        "plt.show()"
      ]
    },
    {
      "cell_type": "markdown",
      "metadata": {
        "id": "9Htn_vyr6pCW"
      },
      "source": [
        "Kolečno není jediný marker, který můžeme používat. Následuje krátký seznam možných markerů které můžeme používat."
      ]
    },
    {
      "cell_type": "code",
      "execution_count": null,
      "metadata": {
        "id": "KdPaaaL66pCX"
      },
      "outputs": [],
      "source": [
        "import random\n",
        "\n",
        "# o - kolečko\n",
        "# * - hvězdička\n",
        "# . - bod\n",
        "# x - X\n",
        "# X - vyplněné X\n",
        "# + - plusko\n",
        "# P - vyplněné plusko\n",
        "# s - čtverec\n",
        "# D - diamant\n",
        "\n",
        "markers = [\"o\", \"*\", \".\", \"x\", \"X\", \"+\", \"P\", \"s\", \"D\"]\n",
        "\n",
        "for marker in markers:\n",
        "  plt.plot(xpoints, ypoints, marker=marker)\n",
        "  plt.show()"
      ]
    },
    {
      "cell_type": "markdown",
      "metadata": {
        "id": "pKVTo-RV6pCY"
      },
      "source": [
        "Pro změnu velikosti markeru se používá parametr ms (markersize)"
      ]
    },
    {
      "cell_type": "code",
      "execution_count": null,
      "metadata": {
        "id": "THVr7ncm6pCY"
      },
      "outputs": [],
      "source": [
        "plt.plot(xpoints, ypoints, marker=random.choice(markers), ms=20)\n",
        "plt.show()"
      ]
    },
    {
      "cell_type": "markdown",
      "metadata": {
        "id": "3mgzKfu86pCY"
      },
      "source": [
        "Pro změnu barvy markeru se dají použít 2 způsoby mec (markeredgeecolor) nebo mfc (markerfacecolor).\n",
        "Parametr mec mění barvu okraje markeru a mfc mění barvu vnitřku markeru."
      ]
    },
    {
      "cell_type": "code",
      "execution_count": null,
      "metadata": {
        "id": "zIhzu9BW6pCZ"
      },
      "outputs": [],
      "source": [
        "plt.plot(xpoints, ypoints, marker=\"o\", mec=\"r\", ms=20)\n",
        "plt.show()"
      ]
    },
    {
      "cell_type": "code",
      "execution_count": null,
      "metadata": {
        "id": "gCumUxjb6pCZ"
      },
      "outputs": [],
      "source": [
        "plt.plot(xpoints, ypoints, marker=\"D\", mfc=\"hotpink\", ms=20)\n",
        "plt.show()"
      ]
    },
    {
      "cell_type": "code",
      "execution_count": null,
      "metadata": {
        "id": "3PKA9pF26pCZ"
      },
      "outputs": [],
      "source": [
        "plt.plot(xpoints, ypoints, marker=\"P\", mec=\"#4CAF50\", mfc=\"#4CAF50\", ms=20)\n",
        "plt.show()"
      ]
    },
    {
      "cell_type": "markdown",
      "metadata": {
        "id": "rO9g5U0K6pCa"
      },
      "source": [
        "# Čára\n",
        "Čára se dá měnit pomocí parametu ls (linestyle)"
      ]
    },
    {
      "cell_type": "code",
      "execution_count": null,
      "metadata": {
        "id": "TFKQIvDK6pCa"
      },
      "outputs": [],
      "source": [
        "plt.plot(xpoints, ypoints, ls=\"dotted\")\n",
        "plt.show()"
      ]
    },
    {
      "cell_type": "code",
      "execution_count": null,
      "metadata": {
        "id": "DcLCLLFE6pCa"
      },
      "outputs": [],
      "source": [
        "plt.plot(xpoints, ypoints, ls=\"dashed\")\n",
        "plt.show()"
      ]
    },
    {
      "cell_type": "markdown",
      "metadata": {
        "id": "lTJzNKCh6pCb"
      },
      "source": [
        "Slova dotted a dashed lze nahradit za kratší zápis : a --\n",
        "Existuje ještě -. tento znak zobrazuje čerchovanou čáru. "
      ]
    },
    {
      "cell_type": "code",
      "execution_count": null,
      "metadata": {
        "id": "Wd_cyrhO6pCb"
      },
      "outputs": [],
      "source": [
        "plt.plot(xpoints, ypoints, ls=\":\")\n",
        "plt.show()"
      ]
    },
    {
      "cell_type": "markdown",
      "metadata": {
        "id": "ElWyC9ny6pCb"
      },
      "source": [
        "Pro změnu barvy se používá atribut c (color)"
      ]
    },
    {
      "cell_type": "code",
      "execution_count": null,
      "metadata": {
        "id": "zRE_l8V56pCc"
      },
      "outputs": [],
      "source": [
        "plt.plot(xpoints, ypoints, c=\"#4CAF50\")\n",
        "plt.show()"
      ]
    },
    {
      "cell_type": "markdown",
      "metadata": {
        "id": "xPrvRifU6pCc"
      },
      "source": [
        "Tloušťka čáry se mění pomocí artributu lw (linewidth)"
      ]
    },
    {
      "cell_type": "code",
      "execution_count": null,
      "metadata": {
        "id": "eqeKJH7k6pCc"
      },
      "outputs": [],
      "source": [
        "plt.plot(xpoints, ypoints, lw=20)\n",
        "plt.show()"
      ]
    },
    {
      "cell_type": "markdown",
      "metadata": {
        "id": "bLJZWrMw6pCc"
      },
      "source": [
        "# Format strings - ftm\n",
        "Ke specifikaci barvy, stylu čáry a stulu markeru lze použít ftm string.\n",
        "Tento způsob zápisu vypadá takto: marker|line|color"
      ]
    },
    {
      "cell_type": "code",
      "execution_count": null,
      "metadata": {
        "id": "dio-Nmf46pCc"
      },
      "outputs": [],
      "source": [
        "plt.plot(xpoints, ypoints, \"s-.g\")\n",
        "plt.show()"
      ]
    },
    {
      "cell_type": "markdown",
      "metadata": {
        "id": "AN4dxl--6pCc"
      },
      "source": [
        "# Více čar na jednom plotu"
      ]
    },
    {
      "cell_type": "code",
      "execution_count": null,
      "metadata": {
        "id": "J1GwFU6X6pCd"
      },
      "outputs": [],
      "source": [
        "x1 = np.array([0, 1, 2, 3])\n",
        "y1 = np.array([3, 8, 1, 10])\n",
        "x2 = np.array([0, 1, 2, 3])\n",
        "y2 = np.array([6, 2, 7, 11])\n",
        "x3 = np.array([0, 1, 2, 3])\n",
        "y3 = np.array([10, 6, 1, 8])\n",
        "\n",
        "plt.plot(x1, y1, x2, y2, x3, y3)\n",
        "plt.show()"
      ]
    },
    {
      "cell_type": "markdown",
      "metadata": {
        "id": "SrS1DPeW6pCd"
      },
      "source": [
        "V tomto případě už nemůžeme používat pouze y souřadnice"
      ]
    },
    {
      "cell_type": "code",
      "execution_count": null,
      "metadata": {
        "id": "aXjYoT-q6pCd"
      },
      "outputs": [],
      "source": [
        "y1 = np.array([3, 8, 1, 10])\n",
        "\n",
        "y2 = np.array([6, 2, 7, 11])\n",
        "\n",
        "plt.plot(y1, y2)\n",
        "\n",
        "plt.show()"
      ]
    },
    {
      "cell_type": "markdown",
      "metadata": {
        "id": "jxXdJJaf6pCd"
      },
      "source": [
        "Při zobrazování více čar na jednom plotu pole nemuí být stejně dlouhé"
      ]
    },
    {
      "cell_type": "code",
      "execution_count": null,
      "metadata": {
        "id": "uS6PqLjL6pCd"
      },
      "outputs": [],
      "source": [
        "x1 = np.array([0, 1, 2, 3])\n",
        "y1 = np.array([3, 8, 1, 10])\n",
        "x2 = np.array([0, 1, 2, 3, 4])\n",
        "y2 = np.array([6, 2, 7, 11, 13])\n",
        "\n",
        "plt.plot(x1, y1, x2, y2)\n",
        "\n",
        "plt.show()"
      ]
    },
    {
      "cell_type": "markdown",
      "metadata": {
        "id": "XFvm6Ylm6pCe"
      },
      "source": [
        "# Popisky"
      ]
    },
    {
      "cell_type": "code",
      "execution_count": null,
      "metadata": {
        "id": "Rxy3Fsnn6pCe"
      },
      "outputs": [],
      "source": [
        "plt.title(\"Uběhlé kilometry\")\n",
        "plt.xlabel(\"Počet hodin\")\n",
        "plt.ylabel(\"počet kilometrů\")\n",
        "\n",
        "plt.plot(xpoints, ypoints)\n",
        "plt.show()"
      ]
    },
    {
      "cell_type": "code",
      "execution_count": null,
      "metadata": {
        "id": "2Ft7lKqO6pCe"
      },
      "outputs": [],
      "source": [
        "font1 = {'family':'serif','color':'blue','size':20}\n",
        "font2 = {'family':'serif','color':'darkred','size':15}\n",
        "\n",
        "\n",
        "plt.title(\"Nadpis\", fontdict=font1)\n",
        "plt.xlabel(\"popisek x\", fontdict=font2)\n",
        "plt.ylabel(\"popisek y\", fontdict=font2)\n",
        "\n",
        "plt.plot(xpoints, ypoints)\n",
        "plt.show()"
      ]
    },
    {
      "cell_type": "code",
      "execution_count": null,
      "metadata": {
        "id": "S6U54xFC6pCe"
      },
      "outputs": [],
      "source": [
        "font1 = {'family':'serif','color':'blue','size':20}\n",
        "font2 = {'family':'serif','color':'darkred','size':15}\n",
        "\n",
        "\n",
        "plt.title(\"Vlevo\", fontdict=font1, loc=\"left\")\n",
        "plt.title(\"Střed\", fontdict=font1, loc=\"center\")\n",
        "plt.title(\"Vpravo\", fontdict=font1, loc=\"right\")\n",
        "\n",
        "plt.xlabel(\"popisek x\", fontdict=font2)\n",
        "plt.ylabel(\"popisek y\", fontdict=font2)\n",
        "\n",
        "plt.plot(xpoints, ypoints)\n",
        "plt.show()\n"
      ]
    },
    {
      "cell_type": "code",
      "source": [
        "I = [0, 10, 20, 30, 40, 50, 60] # mA\n",
        "U = [12, 10.75, 9.55, 8.3, 7.06, 5.7, 4.5] # V\n",
        "\n",
        "# zobrazit zátěžovou charakteristiku U=f(I)\n",
        "\n",
        "I = np.array(I)\n",
        "U = np.array(U)\n",
        "\n",
        "plt.title(\"Zátěžová charakteristika U=f(I)\", loc=\"left\", fontdict=font1)\n",
        "plt.xlabel(\"Proud [mA]\", fontdict=font2)\n",
        "plt.ylabel(\"Napětí [V]\", fontdict=font2)\n",
        "\n",
        "plt.plot(I, U, marker=\"+\")\n",
        "plt.show()"
      ],
      "metadata": {
        "id": "wlDaecR0mWsx"
      },
      "execution_count": null,
      "outputs": []
    }
  ],
  "metadata": {
    "language_info": {
      "name": "python"
    },
    "orig_nbformat": 4,
    "colab": {
      "provenance": []
    },
    "kernelspec": {
      "name": "python3",
      "display_name": "Python 3"
    },
    "gpuClass": "standard"
  },
  "nbformat": 4,
  "nbformat_minor": 0
}