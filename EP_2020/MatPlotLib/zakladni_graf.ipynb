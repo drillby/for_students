{
 "cells": [
  {
   "attachments": {},
   "cell_type": "markdown",
   "metadata": {},
   "source": [
    "# MatPlotLib\n",
    "MatPlotLib je Python knihovna určená pro zobrazování grafů.\n",
    "Není to vestavěná knihovna, takže si ji budeme muset doinstalovat"
   ]
  },
  {
   "cell_type": "code",
   "execution_count": null,
   "metadata": {},
   "outputs": [],
   "source": [
    "! pip install matplotlib"
   ]
  },
  {
   "attachments": {},
   "cell_type": "markdown",
   "metadata": {},
   "source": [
    "Pro první použití této knihovny si ji musíme přidat do kódu pomocí importu. Přidáme si k tomu i knihovnu Numpy, pomocí této knihovny budeme upravovat data k zobrazení."
   ]
  },
  {
   "cell_type": "code",
   "execution_count": null,
   "metadata": {},
   "outputs": [],
   "source": [
    "import matplotlib.pyplot as plt\n",
    "import numpy as np\n",
    "\n",
    "# pomocí funkce array si vytvoříme pole pomocí knihovny numpy\n",
    "# knihovnu numpy používáme místo klasickýxh polí a to z důvodu vyšší rychlosti\n",
    "x_body = np.array([0, 6])\n",
    "y_body = np.array([0, 250])\n",
    "\n",
    "# funkcí plot vytvoříme samotný graf a naneseme na něj body\n",
    "plt.plot(x_body, y_body)\n",
    "# nakonec použijeme show pro zobrazení\n",
    "plt.show()"
   ]
  },
  {
   "attachments": {},
   "cell_type": "markdown",
   "metadata": {},
   "source": [
    "V základu se body vždy spojí čárou, to ne vždy chceme a může to vést ke špatné interpretaci dat. Abychom zobrazili samotné body, použíjeme písmeno \"o\" jako dodatečný argument ve funkci plot"
   ]
  },
  {
   "cell_type": "code",
   "execution_count": null,
   "metadata": {},
   "outputs": [],
   "source": [
    "# funkcí plot vytvoříme samotný graf a naneseme na něj body\n",
    "plt.plot(x_body, y_body, \"o\")\n",
    "# nakonec použijeme show pro zobrazení\n",
    "plt.show()"
   ]
  },
  {
   "attachments": {},
   "cell_type": "markdown",
   "metadata": {},
   "source": [
    "Můžeme zobrazit takový počet čísel kolik potřebujeme, musíme se ale ujistit, že počet prvků na obou osách je stejný"
   ]
  },
  {
   "cell_type": "code",
   "execution_count": null,
   "metadata": {},
   "outputs": [],
   "source": [
    "xpoints = np.array([1, 2, 6, 8])\n",
    "ypoints = np.array([3, 8, 1, 10])\n",
    "\n",
    "plt.plot(xpoints, ypoints)\n",
    "plt.show()"
   ]
  },
  {
   "attachments": {},
   "cell_type": "markdown",
   "metadata": {},
   "source": [
    "Ne vždy musíme do fuknce plot dávat 2 pole hodnot, pokud chceme aby osa x byla číslovaná od 0, stačí když použijeme pouze pole v hodnotami na ose y"
   ]
  },
  {
   "cell_type": "code",
   "execution_count": null,
   "metadata": {},
   "outputs": [],
   "source": [
    "ypoints = np.array([3, 8, 1, 10, 5, 7])\n",
    "\n",
    "plt.plot(ypoints)\n",
    "plt.show()"
   ]
  }
 ],
 "metadata": {
  "kernelspec": {
   "display_name": "env",
   "language": "python",
   "name": "python3"
  },
  "language_info": {
   "codemirror_mode": {
    "name": "ipython",
    "version": 3
   },
   "file_extension": ".py",
   "mimetype": "text/x-python",
   "name": "python",
   "nbconvert_exporter": "python",
   "pygments_lexer": "ipython3",
   "version": "3.10.3"
  },
  "orig_nbformat": 4,
  "vscode": {
   "interpreter": {
    "hash": "829fe1a04abf8574befa8adbf280d976f7eaeb265d09a8c810d1dc97c59b1fce"
   }
  }
 },
 "nbformat": 4,
 "nbformat_minor": 2
}
