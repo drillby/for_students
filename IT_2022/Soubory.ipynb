{
 "cells": [
  {
   "cell_type": "markdown",
   "metadata": {},
   "source": [
    "# Soubory\n",
    "Práce se soubory je velmi důležitá, protože většina dat je uložena v souborech. V Pythonu je práce se soubory velmi jednoduchá. Nejprve je potřeba soubor otevřít, poté s ním provést nějakou operaci a nakonec jej zavřít."
   ]
  },
  {
   "cell_type": "markdown",
   "metadata": {},
   "source": [
    "## Otevření souboru\n",
    "Soubor se otevírá pomocí funkce `open()`. Funkce má dva parametry: název souboru a způsob, jakým se má soubor otevřít. Způsob otevření souboru je určen pomocí řetězce. \n",
    "\n",
    "Existují 2 způsoby využití funkce `open()`:\n",
    "1. `open(nazev_souboru, zpusob)` - otevře soubor a vrátí objekt, který reprezentuje otevřený soubor\n",
    "2. `with open(nazev_souboru, zpusob) as objekt` - otevře soubor a vrátí objekt, který reprezentuje otevřený soubor. Objekt je přiřazen do proměnné `objekt`. Po ukončení bloku `with` je soubor automaticky uzavřen."
   ]
  },
  {
   "cell_type": "code",
   "execution_count": null,
   "metadata": {},
   "outputs": [],
   "source": [
    "nazev_souboru = \"soubor.txt\"\n",
    "\n",
    "soubor = open(nazev_souboru, \"r\") # otevření souboru pro čtení\n",
    "obsah = soubor.read() # přečtení obsahu souboru\n",
    "soubor.close() # uzavření souboru\n",
    "\n",
    "print(obsah)\n",
    "\n",
    "# V tomto případě musíme soubor uzavřít ručně.\n",
    "# Pokud bychom soubor neuzavřeli, mohlo by se stát, že by se nám soubor nepodařilo otevřít znovu, protože by byl stále otevřený. "
   ]
  },
  {
   "cell_type": "code",
   "execution_count": null,
   "metadata": {},
   "outputs": [],
   "source": [
    "nazev_souboru = \"soubor.txt\"\n",
    "\n",
    "with open(nazev_souboru, \"r\") as soubor:\n",
    "    obsah = soubor.read()\n",
    "\n",
    "print(obsah)\n",
    "\n",
    "# V tomto případě se soubor uzavře automaticky, jakmile se ukončí blok with.\n",
    "# Tento způsob je bezpečnější, protože se nemusíme starat o to, zda soubor uzavřeme, nebo ne.\n",
    "# Zároveň je tento způsob považován za lepší praxi."
   ]
  },
  {
   "cell_type": "markdown",
   "metadata": {},
   "source": [
    "## Způsoby otevření souboru\n",
    "Způsob otevření souboru je určen pomocí řetězce. Existují 3 základní způsoby otevření souboru:\n",
    "1. `r` - otevře soubor pro čtení. Pokud soubor neexistuje, dojde k chybě.\n",
    "2. `w` - otevře soubor pro zápis. Pokud soubor neexistuje, vytvoří se nový. Pokud soubor existuje, přepíše se.\n",
    "3. `a` - otevře soubor pro zápis. Pokud soubor neexistuje, vytvoří se nový. Pokud soubor existuje, přidá se na konec.\n",
    "4. `r+`/`a+` - otevře soubor pro čtení a zápis. Pokud soubor neexistuje, dojde k chybě."
   ]
  },
  {
   "cell_type": "code",
   "execution_count": null,
   "metadata": {},
   "outputs": [],
   "source": [
    "# r - čtení\n",
    "\n",
    "nazev_souboru = \"soubor.txt\"\n",
    "\n",
    "with open(nazev_souboru, \"r\") as soubor:\n",
    "    obsah = soubor.read()\n",
    "\n",
    "print(obsah)"
   ]
  },
  {
   "cell_type": "code",
   "execution_count": null,
   "metadata": {},
   "outputs": [],
   "source": [
    "# w - zápis\n",
    "\n",
    "nazev_souboru = \"soubor.txt\"\n",
    "\n",
    "with open(nazev_souboru, \"w\") as soubor:\n",
    "    soubor.write(\"Ahoj světe!\")"
   ]
  },
  {
   "cell_type": "code",
   "execution_count": null,
   "metadata": {},
   "outputs": [],
   "source": [
    "# a - přidání na konec\n",
    "\n",
    "nazev_souboru = \"soubor.txt\"\n",
    "\n",
    "with open(nazev_souboru, \"a\") as soubor:\n",
    "    soubor.write(\"Ahoj světe!\")"
   ]
  },
  {
   "cell_type": "code",
   "execution_count": null,
   "metadata": {},
   "outputs": [],
   "source": [
    "# r+ - čtení a zápis\n",
    "# při otevření souboru pro čtení a zápis se soubor otevře a kurzor je na začátku souboru\n",
    "# v momentě, kdy se pokusíme zapsat do souboru, přepíše se obsah od pozice, na které se kurzor nachází\n",
    "# pokud chceme přidat obsah na konec souboru, musíme nejdříve přesunout kurzor na konec souboru\n",
    "# toho docílíme pomocí metody seek(), nebo také přečtením celého souboru pomocí metody read()\n",
    "\n",
    "nazev_souboru = \"soubor.txt\"\n",
    "\n",
    "with open(nazev_souboru, \"r+\") as soubor:\n",
    "    pozice_kurzoru = soubor.tell() # zjištění pozice kurzoru\n",
    "    print(pozice_kurzoru)\n",
    "    soubor.readline()\n",
    "    pozice_kurzoru = soubor.tell() # zjištění pozice kurzoru\n",
    "    print(pozice_kurzoru)\n"
   ]
  },
  {
   "cell_type": "code",
   "execution_count": null,
   "metadata": {},
   "outputs": [],
   "source": [
    "# r+ - čtení a zápis\n",
    "# při otevření souboru pro čtení a zápis se soubor otevře a kurzor je na začátku souboru\n",
    "# v momentě, kdy se pokusíme zapsat do souboru, přepíše se obsah od pozice, na které se kurzor nachází\n",
    "# pokud chceme přidat obsah na konec souboru, musíme nejdříve přesunout kurzor na konec souboru\n",
    "# toho docílíme pomocí metody seek(), nebo také přečtením celého souboru pomocí metody read()\n",
    "\n",
    "nazev_souboru = \"soubor.txt\"\n",
    "\n",
    "with open(nazev_souboru, \"r+\") as soubor:\n",
    "    pozice_kurzoru = soubor.tell()  # zjištění pozice kurzoru\n",
    "    print(pozice_kurzoru)\n",
    "    soubor.seek(20)  # přesun kurzoru na pozici 20\n",
    "    pozice_kurzoru = soubor.tell()  # zjištění pozice kurzoru\n",
    "    print(pozice_kurzoru)\n",
    "\n",
    "# funcke seek() má dva parametry\n",
    "# první parametr je pozice, na kterou se má kurzor přesunout\n",
    "# druhý parametr je volitelný a určuje, od kterého místa se má pozice počítat\n",
    "# druhý parametr může nabývat hodnot 0, 1, 2\n",
    "# 0 - počítá se od začátku souboru (defaultní hodnota)\n",
    "# 1 - počítá se od aktuální pozice kurzoru\n",
    "# 2 - počítá se od konce souboru"
   ]
  },
  {
   "cell_type": "code",
   "execution_count": null,
   "metadata": {},
   "outputs": [],
   "source": [
    "# r+ - čtení a zápis\n",
    "\n",
    "nazev_souboru = \"soubor.txt\"\n",
    "\n",
    "with open(nazev_souboru, \"r+\") as soubor:\n",
    "    obsah = soubor.read()\n",
    "    soubor.write(\"Ahoj světe!\")"
   ]
  },
  {
   "cell_type": "markdown",
   "metadata": {},
   "source": [
    "### Rozdíl mezi `r+` a `a+`\n",
    "Při otevření souboru pro čtení a zápis pomocí `r+` se kurzor nachází na začátku souboru. Při otevření souboru pro čtení a zápis pomocí `a+` se kurzor nachází na konci souboru."
   ]
  },
  {
   "cell_type": "markdown",
   "metadata": {},
   "source": [
    "## readline(), readlines() a read()\n",
    "Tyto funkce na první pohled dělají totéž, ale mají rozdílné výstupy. Funkce `readline()` načte jeden řádek ze souboru. Funkce `readlines()` načte všechny řádky ze souboru a vrátí je jako seznam. Funkce `read()` načte celý soubor a vrátí jej jako řetězec."
   ]
  },
  {
   "cell_type": "code",
   "execution_count": null,
   "metadata": {},
   "outputs": [],
   "source": [
    "nazev_souboru = \"soubor.txt\"\n",
    "\n",
    "with open(nazev_souboru, \"r\") as soubor:\n",
    "    obsah = soubor.read()\n",
    "\n",
    "print(obsah)"
   ]
  },
  {
   "cell_type": "code",
   "execution_count": null,
   "metadata": {},
   "outputs": [],
   "source": [
    "nazev_souboru = \"soubor.txt\"\n",
    "\n",
    "with open(nazev_souboru, \"r\") as soubor:\n",
    "    obsah = soubor.readlines()\n",
    "\n",
    "print(obsah)\n",
    "\n",
    "for radek in obsah:\n",
    "    print(radek)"
   ]
  },
  {
   "cell_type": "code",
   "execution_count": null,
   "metadata": {},
   "outputs": [],
   "source": [
    "nazev_souboru = \"soubor.txt\"\n",
    "\n",
    "with open(nazev_souboru, \"r\") as soubor:\n",
    "    obsah = soubor.readline()\n",
    "    print(obsah)\n",
    "    obsah = soubor.readline()\n",
    "    print(obsah)\n",
    "    obsah = soubor.readline()\n",
    "    print(obsah)\n"
   ]
  },
  {
   "cell_type": "code",
   "execution_count": null,
   "metadata": {},
   "outputs": [],
   "source": [
    "nazev_souboru = \"soubor.txt\"\n",
    "\n",
    "with open(nazev_souboru, \"r\") as soubor:\n",
    "    while True:\n",
    "        obsah = soubor.readline()\n",
    "        if obsah == \"\":\n",
    "            break\n",
    "        print(obsah)"
   ]
  },
  {
   "cell_type": "markdown",
   "metadata": {},
   "source": [
    "Prostor pro diskuzi: Který způsob je nejlepší? Proč?"
   ]
  },
  {
   "cell_type": "markdown",
   "metadata": {},
   "source": [
    "# Cvičení\n",
    "Bude následovat cvičení, které vám pomohou procvičit si práci se soubory.\n",
    "\n",
    "## Cvičení 1\n",
    "Vytvořte soubor `soubor.txt` a do něj vypište text `Jak se máš?`, soubor zavřete.\n",
    "\n",
    "\n",
    "Následně soubor naposledy otevřete a vypište jeho obsah, soubor zavřete."
   ]
  },
  {
   "cell_type": "markdown",
   "metadata": {},
   "source": [
    "## Cvičení 2\n",
    "Vytvořený soubor znovu otevřete a vypište jeho obsah, soubor zavřete. Použijte funkci, která využívá nejmenší množství paměti."
   ]
  },
  {
   "cell_type": "markdown",
   "metadata": {},
   "source": [
    "## Cvičení 3\n",
    "Následně soubor znovu otevřete a do něj připište text `Dobře`, soubor zavřete."
   ]
  },
  {
   "cell_type": "markdown",
   "metadata": {},
   "source": [
    "## Cvičení 4\n",
    "Soubor opět otevřete, posuňte kurzor na 7 znak a připište text `Zdar!`, soubor zavřete."
   ]
  }
 ],
 "metadata": {
  "kernelspec": {
   "display_name": "Python 3",
   "language": "python",
   "name": "python3"
  },
  "language_info": {
   "name": "python",
   "version": "3.10.12"
  }
 },
 "nbformat": 4,
 "nbformat_minor": 2
}
