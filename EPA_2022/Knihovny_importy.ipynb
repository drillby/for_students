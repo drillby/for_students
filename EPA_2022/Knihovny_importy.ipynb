{
 "cells": [
  {
   "cell_type": "markdown",
   "metadata": {},
   "source": [
    "# Knihovny\n",
    "Python obsahuje velké množství knihoven, které jsou předinstalované a můžeme je používat. Některé z nich jsou již využity v předchozích příkladech. Nyní si ukážeme, jak je můžeme importovat a používat.\n",
    "\n",
    "## Importování knihovny\n",
    "Knihovnu můžeme importovat pomocí příkazu `import`. Následně můžeme používat všechny funkce, které knihovna obsahuje. Například knihovna `math` obsahuje funkci `sqrt`, která počítá odmocninu. Knihovnu `math` můžeme importovat pomocí příkazu `import math`. Následně můžeme používat funkci `sqrt` pomocí příkazu `math.sqrt`."
   ]
  },
  {
   "cell_type": "code",
   "execution_count": 1,
   "metadata": {},
   "outputs": [
    {
     "name": "stdout",
     "output_type": "stream",
     "text": [
      "5.0\n"
     ]
    }
   ],
   "source": [
    "import math\n",
    "\n",
    "cislo = 25\n",
    "odmocnina = math.sqrt(cislo)\n",
    "\n",
    "print(odmocnina)"
   ]
  },
  {
   "cell_type": "markdown",
   "metadata": {},
   "source": [
    "Výše ukázaný postup má jednu nevýhodu. Pokud chceme používat funkci `sqrt`, musíme vždy uvádět jméno knihovny. To může být nepříjemné, pokud chceme používat funkci často. Proto existuje možnost importovat pouze funkci `sqrt` z knihovny `math`. Toho docílíme pomocí příkazu `from math import sqrt`. Následně můžeme používat funkci `sqrt` přímo."
   ]
  },
  {
   "cell_type": "code",
   "execution_count": 2,
   "metadata": {},
   "outputs": [
    {
     "name": "stdout",
     "output_type": "stream",
     "text": [
      "5.0\n"
     ]
    }
   ],
   "source": [
    "from math import sqrt\n",
    "\n",
    "cislo = 25\n",
    "odmocnina = sqrt(cislo)\n",
    "\n",
    "print(odmocnina)"
   ]
  },
  {
   "cell_type": "markdown",
   "metadata": {},
   "source": [
    "Nevýhodou tohoto způsobu je, že pokud chceme používat více funkcí z knihovny, musíme je všechny importovat zvlášť. To může být nepříjemné, pokud chceme používat velké množství funkcí. Proto existuje možnost importovat všechny funkce z knihovny pomocí příkazu `from math import *`. Následně můžeme používat všechny funkce z knihovny přímo."
   ]
  },
  {
   "cell_type": "code",
   "execution_count": 3,
   "metadata": {},
   "outputs": [
    {
     "name": "stdout",
     "output_type": "stream",
     "text": [
      "5.0\n"
     ]
    }
   ],
   "source": [
    "from math import *\n",
    "\n",
    "cislo = 25\n",
    "odmocnina = sqrt(cislo)\n",
    "\n",
    "print(odmocnina)"
   ]
  },
  {
   "cell_type": "markdown",
   "metadata": {},
   "source": [
    "Importovat všechny funkce z knihovny není doporučené. Pokud totiž importujeme více knihoven, může se stát, že se v nich budou nacházet funkce se stejným názvem. V takovém případě se může stát, že se nám některé funkce přepíšou a budou nefunkční. Proto je lepší importovat celou knihovnu pomocí příkazu `import math` a následně používat funkce pomocí příkazu `math.sqrt`."
   ]
  },
  {
   "cell_type": "markdown",
   "metadata": {},
   "source": [
    "Někdy názvy knihoven nebo funkcí jsou příliš dlouhé. V takovém případě můžeme knihovnu nebo funkci přejmenovat. Toho docílíme pomocí příkazu `import math as m` nebo `from math import sqrt as s`. Následně můžeme používat knihovnu nebo funkci pomocí příkazu `m.sqrt` nebo `s`."
   ]
  },
  {
   "cell_type": "code",
   "execution_count": 4,
   "metadata": {},
   "outputs": [
    {
     "name": "stdout",
     "output_type": "stream",
     "text": [
      "5.0\n"
     ]
    }
   ],
   "source": [
    "import math as m\n",
    "\n",
    "cislo = 25\n",
    "odmocnina = m.sqrt(cislo)\n",
    "\n",
    "print(odmocnina)"
   ]
  },
  {
   "cell_type": "code",
   "execution_count": 5,
   "metadata": {},
   "outputs": [
    {
     "name": "stdout",
     "output_type": "stream",
     "text": [
      "5.0\n"
     ]
    }
   ],
   "source": [
    "from math import sqrt as s\n",
    "\n",
    "cislo = 25\n",
    "odmocnina = s(cislo)\n",
    "\n",
    "print(odmocnina)"
   ]
  },
  {
   "cell_type": "markdown",
   "metadata": {},
   "source": [
    "## Soubor jako knihovna\n",
    "Dobrou praktikou je psát kód do souborů a následně je importovat, tato praktika podporuje přenositelnost kódu. Toho docílíme pomocí příkazu `import nazev_souboru`. Následně můžeme používat všechny funkce, které se v souboru nachází. Soubor musí mít příponu `.py`. Soubor musí být ve stejné složce jako soubor, ve kterém je importován."
   ]
  },
  {
   "cell_type": "code",
   "execution_count": null,
   "metadata": {},
   "outputs": [],
   "source": [
    "# vypocty.py\n",
    "\n",
    "def secti(a, b):\n",
    "    return a + b\n",
    "\n",
    "def odecti(a, b):\n",
    "    return a - b\n",
    "\n",
    "def vynasob(a, b):\n",
    "    return a * b\n",
    "\n",
    "def vydel(a, b):\n",
    "    return a / b\n",
    "\n",
    "KONSTANTA = 10"
   ]
  },
  {
   "cell_type": "code",
   "execution_count": null,
   "metadata": {},
   "outputs": [],
   "source": [
    "# main.py\n",
    "\n",
    "import vypocty\n",
    "\n",
    "print(vypocty.secti(1, 2))\n",
    "print(vypocty.odecti(1, 2))\n",
    "print(vypocty.vynasob(1, 2))\n",
    "print(vypocty.vydel(1, 2))\n",
    "print(vypocty.KONSTANTA)"
   ]
  },
  {
   "cell_type": "markdown",
   "metadata": {},
   "source": [
    "## __name__ == \"__main__\"\n",
    "V souboru může být kód, který se spustí pouze v případě, že je soubor spuštěn přímo. Toho docílíme pomocí podmínky `if __name__ == \"__main__\":`. Tento kód se spustí pouze v případě, že je soubor spuštěn přímo. Pokud je soubor importován, kód se nespustí.\n",
    "\n",
    "Jinými slovy, script spouštěn napřímo se vždy jmenuje `__main__`. Pokud je script importován, jmenuje se podle svého jména. Tuto vlastnost můžeme využít k tomu, abychom mohli spouštět část scriptu (např. testovací kód) pouze v případě, že je script spuštěn přímo."
   ]
  },
  {
   "cell_type": "code",
   "execution_count": 1,
   "metadata": {},
   "outputs": [
    {
     "name": "stdout",
     "output_type": "stream",
     "text": [
      "__main__\n"
     ]
    }
   ],
   "source": [
    "print(__name__)"
   ]
  },
  {
   "cell_type": "code",
   "execution_count": null,
   "metadata": {},
   "outputs": [],
   "source": [
    "# vypocty.py\n",
    "\n",
    "def secti(a, b):\n",
    "    return a + b\n",
    "\n",
    "def odecti(a, b):\n",
    "    return a - b\n",
    "\n",
    "def vynasob(a, b):\n",
    "    return a * b\n",
    "\n",
    "def vydel(a, b):\n",
    "    return a / b\n",
    "\n",
    "if __name__ == \"__main__\":\n",
    "    print(secti(1, 2))\n",
    "    print(odecti(1, 2))\n",
    "    print(vynasob(1, 2))\n",
    "    print(vydel(1, 2))"
   ]
  },
  {
   "cell_type": "code",
   "execution_count": null,
   "metadata": {},
   "outputs": [],
   "source": [
    "# main.py\n",
    "\n",
    "import vypocty\n",
    "\n",
    "print(vypocty.secti(1, 2))\n"
   ]
  },
  {
   "cell_type": "markdown",
   "metadata": {},
   "source": [
    "# Cvičení\n",
    "Bude následovat pár cvičení, které procvičí práci s knihovnami.\n",
    "\n",
    "## Cvičení 1\n",
    "Importujte knihovnu `math` a vypište hodnotu $\\pi$."
   ]
  },
  {
   "cell_type": "code",
   "execution_count": 6,
   "metadata": {},
   "outputs": [
    {
     "name": "stdout",
     "output_type": "stream",
     "text": [
      "3.141592653589793\n"
     ]
    }
   ],
   "source": [
    "from math import pi\n",
    "\n",
    "print(pi)"
   ]
  },
  {
   "cell_type": "markdown",
   "metadata": {},
   "source": [
    "### Referenční výstup\n",
    "<span>Pi má hodnotu: 3.141592653589793</span>\n"
   ]
  },
  {
   "cell_type": "markdown",
   "metadata": {},
   "source": [
    "## Cvičení 2\n",
    "Importujte knihovnu `math` a vypište hodnotu $\\pi$ pomocí přejmenování knihovny."
   ]
  },
  {
   "cell_type": "code",
   "execution_count": 7,
   "metadata": {},
   "outputs": [
    {
     "name": "stdout",
     "output_type": "stream",
     "text": [
      "3.141592653589793\n"
     ]
    }
   ],
   "source": [
    "import math as m\n",
    "\n",
    "print(m.pi)"
   ]
  },
  {
   "cell_type": "markdown",
   "metadata": {},
   "source": [
    "### Referenční výstup\n",
    "<span>Pi má hodnotu: 3.141592653589793</span>\n"
   ]
  },
  {
   "cell_type": "markdown",
   "metadata": {},
   "source": [
    "## Cvičení 3\n",
    "Importujte knihovnu `math` a vypište hodnotu $\\pi$ pomocí přejmenování funkce."
   ]
  },
  {
   "cell_type": "code",
   "execution_count": 8,
   "metadata": {},
   "outputs": [
    {
     "name": "stdout",
     "output_type": "stream",
     "text": [
      "3.141592653589793\n"
     ]
    }
   ],
   "source": [
    "from math import pi as p\n",
    "\n",
    "print(p)"
   ]
  },
  {
   "cell_type": "markdown",
   "metadata": {},
   "source": [
    "### Referenční výstup\n",
    "<span>Pi má hodnotu: 3.141592653589793</span>"
   ]
  },
  {
   "cell_type": "markdown",
   "metadata": {},
   "source": [
    "## Cvičení 4\n",
    "Vytvořte soubor `soubor.py` a vypište v něm hodnotu $\\pi$. Následně importujte tento soubor a vypište hodnotu $\\pi$."
   ]
  },
  {
   "cell_type": "code",
   "execution_count": null,
   "metadata": {},
   "outputs": [],
   "source": [
    "# soubor.py\n",
    "\n",
    "# zde přijde váš kód\n",
    "\n"
   ]
  },
  {
   "cell_type": "code",
   "execution_count": null,
   "metadata": {},
   "outputs": [],
   "source": [
    "# main.py\n",
    "\n",
    "# zde přijde váš kód\n",
    "\n"
   ]
  },
  {
   "cell_type": "markdown",
   "metadata": {},
   "source": [
    "### Referenční výstup\n",
    "<span>Pi má hodnotu: 3.141592653589793</span>"
   ]
  },
  {
   "cell_type": "markdown",
   "metadata": {},
   "source": [
    "## Cvičení 5\n",
    "Vytvořte soubor `soubor.py` a vypište v něm hodnotu $\\pi$ pouze v případě, že je soubor spuštěn přímo. Následně importujte tento soubor a vypište hodnotu $2\\pi$."
   ]
  },
  {
   "cell_type": "code",
   "execution_count": null,
   "metadata": {},
   "outputs": [],
   "source": [
    "# soubor.py\n",
    "\n",
    "# zde přijde váš kód\n",
    "\n"
   ]
  },
  {
   "cell_type": "code",
   "execution_count": null,
   "metadata": {},
   "outputs": [],
   "source": [
    "# main.py\n",
    "\n",
    "# zde přijde váš kód\n",
    "\n"
   ]
  }
 ],
 "metadata": {
  "kernelspec": {
   "display_name": "Python 3",
   "language": "python",
   "name": "python3"
  },
  "language_info": {
   "codemirror_mode": {
    "name": "ipython",
    "version": 3
   },
   "file_extension": ".py",
   "mimetype": "text/x-python",
   "name": "python",
   "nbconvert_exporter": "python",
   "pygments_lexer": "ipython3",
   "version": "3.10.12"
  }
 },
 "nbformat": 4,
 "nbformat_minor": 2
}
