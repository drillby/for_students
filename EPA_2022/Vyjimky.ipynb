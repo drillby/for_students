{
 "cells": [
  {
   "cell_type": "markdown",
   "metadata": {},
   "source": [
    "# Vyjímky\n",
    "Vyjímka je speciální objekt, který vznikne v případě, že dojde k chybě. Nezpracováním tohoto objektu dojde k ukončení programu.\n",
    "Příklady vyjímek:\n",
    "- ZeroDivisionError\n",
    "- NameError\n",
    "- TypeError\n",
    "- ValueError\n",
    "- IndexError\n",
    "- KeyError\n",
    "- AttributeError\n",
    "- ImportError\n",
    "\n",
    "Všechny vyjímky jsou odvozeny z třídy Exception. Všechny vyjímky jsou odchyceny v bloku try-except. Pokud není vyjímka odchycena, dojde k ukončení programu."
   ]
  },
  {
   "cell_type": "code",
   "execution_count": 1,
   "metadata": {},
   "outputs": [
    {
     "ename": "ZeroDivisionError",
     "evalue": "division by zero",
     "output_type": "error",
     "traceback": [
      "\u001b[1;31m---------------------------------------------------------------------------\u001b[0m",
      "\u001b[1;31mZeroDivisionError\u001b[0m                         Traceback (most recent call last)",
      "\u001b[1;32md:\\Uceni_podklady\\principy\\Vyjimky.ipynb Cell 2\u001b[0m line \u001b[0;36m4\n\u001b[0;32m      <a href='vscode-notebook-cell:/d%3A/Uceni_podklady/principy/Vyjimky.ipynb#W1sZmlsZQ%3D%3D?line=0'>1</a>\u001b[0m a \u001b[39m=\u001b[39m \u001b[39m5\u001b[39m\n\u001b[0;32m      <a href='vscode-notebook-cell:/d%3A/Uceni_podklady/principy/Vyjimky.ipynb#W1sZmlsZQ%3D%3D?line=1'>2</a>\u001b[0m b \u001b[39m=\u001b[39m \u001b[39m0\u001b[39m\n\u001b[1;32m----> <a href='vscode-notebook-cell:/d%3A/Uceni_podklady/principy/Vyjimky.ipynb#W1sZmlsZQ%3D%3D?line=3'>4</a>\u001b[0m \u001b[39mprint\u001b[39m(a\u001b[39m/\u001b[39;49mb)\n",
      "\u001b[1;31mZeroDivisionError\u001b[0m: division by zero"
     ]
    }
   ],
   "source": [
    "a = 5\n",
    "b = 0\n",
    "\n",
    "print(a/b)"
   ]
  },
  {
   "cell_type": "markdown",
   "metadata": {},
   "source": [
    "Pokud chceme aby nedošlo k neočekávanému ukončení programu, je nutné vyjímky odchytit a zpracovat. Toho docílíme pomocí bloku try-except."
   ]
  },
  {
   "cell_type": "code",
   "execution_count": 2,
   "metadata": {},
   "outputs": [
    {
     "name": "stdout",
     "output_type": "stream",
     "text": [
      "Nulou nelze delit\n"
     ]
    }
   ],
   "source": [
    "a = 5\n",
    "b = 0\n",
    "\n",
    "try:\n",
    "    print(a/b)\n",
    "except:\n",
    "    print(\"Nulou nelze delit\")"
   ]
  },
  {
   "cell_type": "markdown",
   "metadata": {},
   "source": [
    "Použití pouze except se nedoporučuje, protože odchytí všechny vyjímky. V případě, že dojde k neočekávané vyjímce např. od uživatele (Ctrl+C pro ukončení programu), je vhodné ji nechat vyhodit a ukončit program. V případě, že chceme odchytit všechny vyjímky vyhozené Pythonem, je vhodné použít except Exception."
   ]
  },
  {
   "cell_type": "code",
   "execution_count": 5,
   "metadata": {},
   "outputs": [
    {
     "name": "stdout",
     "output_type": "stream",
     "text": [
      "Nulou nelze delit\n"
     ]
    }
   ],
   "source": [
    "a = 5\n",
    "b = 0\n",
    "pole = [1,2,3]\n",
    "\n",
    "try:\n",
    "    #print(a/b)\n",
    "    print(pole[3])\n",
    "except Exception:\n",
    "    print(\"Nulou nelze delit\")"
   ]
  },
  {
   "cell_type": "markdown",
   "metadata": {},
   "source": [
    "Tento příklad zachytí všechny vyjímky. Pokud chceme aby byla zachycena vyjímka konkétního typu, je nutné použít except typ_vyjimky."
   ]
  },
  {
   "cell_type": "code",
   "execution_count": 6,
   "metadata": {},
   "outputs": [
    {
     "name": "stdout",
     "output_type": "stream",
     "text": [
      "Nulou nelze delit\n"
     ]
    }
   ],
   "source": [
    "a = 5\n",
    "b = 0\n",
    "\n",
    "try:\n",
    "    print(a/b)\n",
    "except ZeroDivisionError:\n",
    "    print(\"Nulou nelze delit\")"
   ]
  },
  {
   "cell_type": "markdown",
   "metadata": {},
   "source": [
    "V tomto případě je zachycena pouze vyjímka typu ZeroDivisionError. Pokud dojde k jiné vyjímce, dojde k jejímu vyhození a ukončení programu."
   ]
  },
  {
   "cell_type": "code",
   "execution_count": 8,
   "metadata": {},
   "outputs": [
    {
     "ename": "IndexError",
     "evalue": "list index out of range",
     "output_type": "error",
     "traceback": [
      "\u001b[1;31m---------------------------------------------------------------------------\u001b[0m",
      "\u001b[1;31mIndexError\u001b[0m                                Traceback (most recent call last)",
      "\u001b[1;32md:\\Uceni_podklady\\principy\\Vyjimky.ipynb Cell 10\u001b[0m line \u001b[0;36m6\n\u001b[0;32m      <a href='vscode-notebook-cell:/d%3A/Uceni_podklady/principy/Vyjimky.ipynb#X12sZmlsZQ%3D%3D?line=2'>3</a>\u001b[0m pole \u001b[39m=\u001b[39m [\u001b[39m1\u001b[39m, \u001b[39m2\u001b[39m, \u001b[39m3\u001b[39m]\n\u001b[0;32m      <a href='vscode-notebook-cell:/d%3A/Uceni_podklady/principy/Vyjimky.ipynb#X12sZmlsZQ%3D%3D?line=3'>4</a>\u001b[0m \u001b[39mtry\u001b[39;00m:\n\u001b[0;32m      <a href='vscode-notebook-cell:/d%3A/Uceni_podklady/principy/Vyjimky.ipynb#X12sZmlsZQ%3D%3D?line=4'>5</a>\u001b[0m     \u001b[39m#print(a/b)\u001b[39;00m\n\u001b[1;32m----> <a href='vscode-notebook-cell:/d%3A/Uceni_podklady/principy/Vyjimky.ipynb#X12sZmlsZQ%3D%3D?line=5'>6</a>\u001b[0m     \u001b[39mprint\u001b[39m(pole[\u001b[39m3\u001b[39;49m])\n\u001b[0;32m      <a href='vscode-notebook-cell:/d%3A/Uceni_podklady/principy/Vyjimky.ipynb#X12sZmlsZQ%3D%3D?line=6'>7</a>\u001b[0m \u001b[39mexcept\u001b[39;00m \u001b[39mZeroDivisionError\u001b[39;00m:\n\u001b[0;32m      <a href='vscode-notebook-cell:/d%3A/Uceni_podklady/principy/Vyjimky.ipynb#X12sZmlsZQ%3D%3D?line=7'>8</a>\u001b[0m     \u001b[39mprint\u001b[39m(\u001b[39m\"\u001b[39m\u001b[39mNulou nelze delit\u001b[39m\u001b[39m\"\u001b[39m)\n",
      "\u001b[1;31mIndexError\u001b[0m: list index out of range"
     ]
    }
   ],
   "source": [
    "a = 5\n",
    "b = 0\n",
    "pole = [1, 2, 3]\n",
    "try:\n",
    "    #print(a/b)\n",
    "    print(pole[3])\n",
    "except ZeroDivisionError:\n",
    "    print(\"Nulou nelze delit\")"
   ]
  },
  {
   "cell_type": "markdown",
   "metadata": {},
   "source": [
    "Pokud chceme zachytávat více vyjímek zároveň, je nutné je oddělit čárkou."
   ]
  },
  {
   "cell_type": "code",
   "execution_count": 10,
   "metadata": {},
   "outputs": [
    {
     "name": "stdout",
     "output_type": "stream",
     "text": [
      "Nastala chyba\n"
     ]
    }
   ],
   "source": [
    "a = 5\n",
    "b = 0\n",
    "pole = [1, 2, 3]\n",
    "try:\n",
    "    #print(a / b)\n",
    "    print(pole[3])\n",
    "except (ZeroDivisionError, IndexError):\n",
    "    print(\"Nastala chyba\")"
   ]
  },
  {
   "cell_type": "markdown",
   "metadata": {},
   "source": [
    "Pokud chceme vyhodiť vyjímku, použijeme klíčové slovo raise."
   ]
  },
  {
   "cell_type": "code",
   "execution_count": 12,
   "metadata": {},
   "outputs": [
    {
     "data": {
      "text/plain": [
       "5.0"
      ]
     },
     "execution_count": 12,
     "metadata": {},
     "output_type": "execute_result"
    }
   ],
   "source": [
    "def deleni(a, b):\n",
    "    if b == 0:\n",
    "        raise ZeroDivisionError(\"Nulou nelze delit\")\n",
    "    return a / b\n",
    "\n",
    "a = 5\n",
    "b = 1\n",
    "deleni(a, b)"
   ]
  },
  {
   "cell_type": "markdown",
   "metadata": {},
   "source": [
    "S touto funkcí můžeme následně pracovat stejně jako v již ukázaných příkadech s vyjímkami."
   ]
  },
  {
   "cell_type": "code",
   "execution_count": 13,
   "metadata": {},
   "outputs": [
    {
     "name": "stdout",
     "output_type": "stream",
     "text": [
      "Nulou nelze delit\n"
     ]
    }
   ],
   "source": [
    "def deleni(a, b):\n",
    "    if b == 0:\n",
    "        raise ZeroDivisionError(\"Nulou nelze delit\")\n",
    "    return a / b\n",
    "\n",
    "\n",
    "a = 5\n",
    "b = 0\n",
    "try:\n",
    "    deleni(a, b)\n",
    "except ZeroDivisionError:\n",
    "    print(\"Nulou nelze delit\")"
   ]
  },
  {
   "cell_type": "markdown",
   "metadata": {},
   "source": [
    "Z vyjímek lze získat informace o chybě. V případě, že chceme získat informace o vyjímce, použijeme klíčové slovo as."
   ]
  },
  {
   "cell_type": "code",
   "execution_count": 2,
   "metadata": {},
   "outputs": [
    {
     "name": "stdout",
     "output_type": "stream",
     "text": [
      "('list index out of range',)\n"
     ]
    }
   ],
   "source": [
    "pole = [1, 2, 3]\n",
    "try:\n",
    "    print(pole[3])\n",
    "except IndexError as e:\n",
    "    print(e.args)"
   ]
  },
  {
   "cell_type": "markdown",
   "metadata": {},
   "source": [
    "# Cvičení\n",
    "Bude následovat pár cvičení na procvičení práce s vyjímkami.\n",
    "\n",
    "## Cvičení 1:\n",
    "Napište program, který bude požadovat zadání čísla od uživatele. Pokud uživatel zadá číslo, program vypíše jeho druhou mocninu. Pokud uživatel zadá jiný vstup, program zachytí a vypíše chybovou hlášku."
   ]
  },
  {
   "cell_type": "code",
   "execution_count": null,
   "metadata": {},
   "outputs": [],
   "source": [
    "# TODO: váš kód"
   ]
  },
  {
   "cell_type": "markdown",
   "metadata": {},
   "source": [
    "## Cvičení 2:\n",
    "Napište program, který na základě vstupu vypočte výsledek kvadratické rovnice. Pokud uživatel zadá neplatný vstup(písmena místo čísel), program zachytí a vypíše chybovou hlášku. Zároveň program zachytí případ, kdy hodnota diskriminantu je záporná a vypíše chybovou hlášku."
   ]
  },
  {
   "cell_type": "code",
   "execution_count": null,
   "metadata": {},
   "outputs": [],
   "source": [
    "# TODO: váš kód"
   ]
  },
  {
   "cell_type": "markdown",
   "metadata": {},
   "source": [
    "## Cvičení 3:\n",
    "Opět implementujte kvadraticou rovnici, tentokrát jako funkci. Pokud vstupem nebudou čísla, funkce vyhodí vyjímku. Pokud bude diskriminant záporný, funkce vyhodí vyjímku. Funkci následně použitje a ošetřete vyjímky."
   ]
  },
  {
   "cell_type": "code",
   "execution_count": null,
   "metadata": {},
   "outputs": [],
   "source": [
    "# TODO: váš kód"
   ]
  }
 ],
 "metadata": {
  "kernelspec": {
   "display_name": "Python 3",
   "language": "python",
   "name": "python3"
  },
  "language_info": {
   "codemirror_mode": {
    "name": "ipython",
    "version": 3
   },
   "file_extension": ".py",
   "mimetype": "text/x-python",
   "name": "python",
   "nbconvert_exporter": "python",
   "pygments_lexer": "ipython3",
   "version": "3.12.0"
  }
 },
 "nbformat": 4,
 "nbformat_minor": 2
}
