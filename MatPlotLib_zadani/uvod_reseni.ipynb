{
  "cells": [
    {
      "cell_type": "markdown",
      "metadata": {
        "colab_type": "text",
        "id": "view-in-github"
      },
      "source": [
        "<a href=\"https://colab.research.google.com/github/JaroslavHolecek/Teaching_Solutions/blob/main/MatPlotLib/uvod_reseni.ipynb\" target=\"_parent\"><img src=\"https://colab.research.google.com/assets/colab-badge.svg\" alt=\"Open In Colab\"/></a>"
      ]
    },
    {
      "cell_type": "markdown",
      "metadata": {
        "id": "CNQ7nHC-w_yX"
      },
      "source": [
        "# MatPlotLib\n",
        "MatPlotLib je Python knihovna určená pro zobrazování grafů. Její použití je velmi jednoduché a intuitivní. V této kapitole si ukážeme základní použití MatPlotLibu.\n",
        "Jako první musíme knihovnu nainstalovat."
      ]
    },
    {
      "cell_type": "code",
      "execution_count": null,
      "metadata": {
        "id": "7oVRjQIGw_yZ"
      },
      "outputs": [],
      "source": [
        "! pip install matplotlib"
      ]
    },
    {
      "cell_type": "markdown",
      "metadata": {
        "id": "BSCQ6MAlw_yZ"
      },
      "source": [
        "Pro první použití této knihovny si ji musíme přidat do kódu pomocí importu. Přidáme si k tomu i knihovnu Numpy, pomocí této knihovny budeme upravovat data k zobrazení."
      ]
    },
    {
      "cell_type": "code",
      "execution_count": null,
      "metadata": {
        "id": "1GhE76Jbw_yZ",
        "outputId": "25aa0173-a4ea-4d24-8b3a-a376d6c1ef87"
      },
      "outputs": [],
      "source": [
        "import matplotlib.pyplot as plt\n",
        "import numpy as np\n",
        "\n",
        "# pomocí funkce array si vytvoříme pole pomocí knihovny numpy\n",
        "x_body = np.array([0, 6])\n",
        "y_body = np.array([0, 250])\n",
        "\n",
        "# funkcí plot vytvoříme samotný graf a naneseme na něj body\n",
        "plt.plot(x_body, y_body)\n",
        "# nakonec použijeme show pro zobrazení\n",
        "plt.show()"
      ]
    },
    {
      "cell_type": "markdown",
      "metadata": {
        "id": "TN5aZQAOw_ya"
      },
      "source": [
        "V základu jsou body spojeny čárami, pokud ale chceme zobrazit pouze body bez čar, tak použijeme parametr marker=\"o\"."
      ]
    },
    {
      "cell_type": "code",
      "execution_count": null,
      "metadata": {
        "id": "16ShxV_aw_ya",
        "outputId": "6433b942-495b-4495-f004-c0d7d6c02b4b"
      },
      "outputs": [],
      "source": [
        "# funkcí plot vytvoříme samotný graf a naneseme na něj body\n",
        "plt.plot(x_body, y_body, \"o\")\n",
        "# nakonec použijeme show pro zobrazení\n",
        "plt.show()"
      ]
    },
    {
      "cell_type": "markdown",
      "metadata": {
        "id": "8gg1vMP9w_yb"
      },
      "source": [
        "Můžeme zobrazit takový počet čísel kolik potřebujeme, musíme se ale ujistit, že počet prvků na obou osách je stejný"
      ]
    },
    {
      "cell_type": "code",
      "execution_count": null,
      "metadata": {
        "id": "cSA42u0Gw_yb"
      },
      "outputs": [],
      "source": [
        "xpoints = np.array([1, 2, 6, 8])\n",
        "ypoints = np.array([3, 8, 1, 10])\n",
        "\n",
        "plt.plot(xpoints, ypoints)\n",
        "plt.show()"
      ]
    },
    {
      "cell_type": "markdown",
      "metadata": {
        "id": "vr4-ZsI5w_yc"
      },
      "source": [
        "Pokud použijeme pole rozdílných velikostí program nám vyhodí chybu."
      ]
    },
    {
      "cell_type": "code",
      "execution_count": null,
      "metadata": {
        "id": "_FVldc1Vw_yc"
      },
      "outputs": [],
      "source": [
        "xpoints = np.array([1, 2, 6, 8, 12])\n",
        "ypoints = np.array([3, 8, 1, 10])\n",
        "\n",
        "try:\n",
        "    plt.plot(xpoints, ypoints)\n",
        "    plt.show()\n",
        "except Exception as e:\n",
        "    print(e)"
      ]
    },
    {
      "cell_type": "markdown",
      "metadata": {
        "id": "XwGJiFLCw_yc"
      },
      "source": [
        "Ne vždy musíme do fuknce plot dávat 2 pole hodnot, pokud chceme aby osa x byla číslovaná od 0 s krokem po 1, stačí když použijeme pouze pole v hodnotami na ose y"
      ]
    },
    {
      "cell_type": "code",
      "execution_count": null,
      "metadata": {
        "id": "vZjhd0Yew_yc"
      },
      "outputs": [],
      "source": [
        "ypoints = np.array([3, 8, 1, 10, 5, 7])\n",
        "\n",
        "plt.plot(ypoints)\n",
        "plt.show()"
      ]
    },
    {
      "cell_type": "code",
      "execution_count": null,
      "metadata": {
        "id": "MKx1746Cw_yd",
        "outputId": "09ea71a2-f684-44ab-d481-eb8b99fd971e"
      },
      "outputs": [],
      "source": [
        "y1 = np.array([3, 8, 1, 10])\n",
        "y2 = np.array([6, 2, 7, 11])\n",
        "\n",
        "plt.plot(y1)\n",
        "plt.plot(y2)\n",
        "plt.show()"
      ]
    },
    {
      "cell_type": "markdown",
      "metadata": {
        "id": "C2nOIXlFw_yd"
      },
      "source": [
        "# Cvičení\n",
        "Zde bude následovat série úkolů, díky kterým si můžete ověřit, zda jste látku pochopili.\n",
        "\n",
        "## Cvičení 1\n",
        "Vytvořte graf, který bude mít na ose x hodnoty 1,2,3,4,5 a na ose y hodnoty 1,4,9,16,25"
      ]
    },
    {
      "cell_type": "code",
      "execution_count": null,
      "metadata": {
        "id": "Uouna5qmw_yd",
        "outputId": "7d68813d-8290-48e2-ecdb-4b8c3e64b66c"
      },
      "outputs": [],
      "source": [
        "# TODO: zde vytvořte graf\n",
        "\n",
        "# ===== Začátek řešení =========\n",
        "\n",
        "# ===== Konec řešení =========="
      ]
    },
    {
      "cell_type": "markdown",
      "metadata": {
        "id": "aSp8SGaHw_ye"
      },
      "source": [
        "**Očekávaný výstup:**\n",
        "\n",
        "![Output](./imgs/uvod_1.png)"
      ]
    },
    {
      "cell_type": "markdown",
      "metadata": {
        "id": "WxZA0WAcw_ye"
      },
      "source": [
        "## Cvičení 2\n",
        "Vytvořte graf, který bude mít na ose x hodnoty 1,2,3,4,5 a na ose y hodnoty 1,8,27,64,125. Použijte pouze jedno pole hodnot."
      ]
    },
    {
      "cell_type": "code",
      "execution_count": null,
      "metadata": {
        "id": "gyRwoTIYw_ye",
        "outputId": "42eeeb05-1a9b-45be-a8c5-0c56d0d3cf12"
      },
      "outputs": [],
      "source": [
        "# TODO: zde vytvořte graf\n",
        "\n",
        "# ===== Začátek řešení =========\n",
        "# ===== Konec řešení =========="
      ]
    },
    {
      "cell_type": "markdown",
      "metadata": {
        "id": "YSurnO0uw_yf"
      },
      "source": [
        "**Očekávaný výstup:**\n",
        "\n",
        "![Output](./imgs/uvod_2.png)"
      ]
    },
    {
      "cell_type": "markdown",
      "metadata": {
        "id": "18IOa6PKw_yf"
      },
      "source": [
        "## Cvičení 3\n",
        "Vytvořte graf s 2 čárami, které budou mít na ose x hodnoty 1,2,3,4,5 a na ose y náhodné hodnoty od 0 do 100, náhodné hodnoty vygenerujte pomocí knihovny random."
      ]
    },
    {
      "cell_type": "code",
      "execution_count": null,
      "metadata": {
        "id": "q_cSDvsPw_yf",
        "outputId": "9cbb3bd6-5e42-48bf-a942-81451e083009"
      },
      "outputs": [],
      "source": [
        "# TODO: zde vytvořte graf\n",
        "\n",
        "# ===== Začátek řešení =========\n",
        "\n",
        "# ===== Konec řešení =========="
      ]
    },
    {
      "cell_type": "markdown",
      "metadata": {
        "id": "ASPyqK6Uw_yg"
      },
      "source": [
        "**Očekávaný výstup**\n",
        "\n",
        "![Output](./imgs/uvod_3.png)"
      ]
    }
  ],
  "metadata": {
    "colab": {
      "include_colab_link": true,
      "provenance": []
    },
    "kernelspec": {
      "display_name": "env",
      "language": "python",
      "name": "python3"
    },
    "language_info": {
      "codemirror_mode": {
        "name": "ipython",
        "version": 3
      },
      "file_extension": ".py",
      "mimetype": "text/x-python",
      "name": "python",
      "nbconvert_exporter": "python",
      "pygments_lexer": "ipython3",
      "version": "3.10.6"
    },
    "orig_nbformat": 4,
    "vscode": {
      "interpreter": {
        "hash": "829fe1a04abf8574befa8adbf280d976f7eaeb265d09a8c810d1dc97c59b1fce"
      }
    }
  },
  "nbformat": 4,
  "nbformat_minor": 0
}
