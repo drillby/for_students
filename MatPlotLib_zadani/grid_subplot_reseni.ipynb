{
  "cells": [
    {
      "cell_type": "markdown",
      "metadata": {
        "colab_type": "text",
        "id": "view-in-github"
      },
      "source": [
        "<a href=\"https://colab.research.google.com/github/JaroslavHolecek/Teaching_Solutions/blob/main/MatPlotLib/grid_subplot_reseni.ipynb\" target=\"_parent\"><img src=\"https://colab.research.google.com/assets/colab-badge.svg\" alt=\"Open In Colab\"/></a>"
      ]
    },
    {
      "cell_type": "code",
      "execution_count": null,
      "metadata": {
        "id": "bwF3Anp6xf9P"
      },
      "outputs": [],
      "source": [
        "! pip install matplotlib"
      ]
    },
    {
      "cell_type": "code",
      "execution_count": null,
      "metadata": {
        "id": "lhuRFGLgxf9R"
      },
      "outputs": [],
      "source": [
        "import matplotlib.pyplot as plt\n",
        "import numpy as np"
      ]
    },
    {
      "cell_type": "markdown",
      "metadata": {
        "id": "p3J0oQBtxf9S"
      },
      "source": [
        "# Grid\n",
        "Funkce grid nám umožní vykreslit mřížku na vykreslovaný plot, což nám může pomoci při orientaci v grafu. Mřížku můžeme vykreslit pomocí funkce `grid()`."
      ]
    },
    {
      "cell_type": "code",
      "execution_count": null,
      "metadata": {
        "id": "w6umVdZvxf9S"
      },
      "outputs": [],
      "source": [
        "x = np.array([80, 85, 90, 95, 100, 105, 110, 115, 120, 125])\n",
        "y = np.array([240, 250, 260, 270, 280, 290, 300, 310, 320, 330])\n",
        "\n",
        "plt.title(\"Data ze sportovních hodinek\")\n",
        "plt.xlabel(\"Průměrný tep\")\n",
        "plt.ylabel(\"Spálené kalorie\")\n",
        "\n",
        "plt.plot(x, y)\n",
        "\n",
        "plt.grid()\n",
        "\n",
        "plt.show()"
      ]
    },
    {
      "cell_type": "markdown",
      "metadata": {
        "id": "el4-Rindxf9S"
      },
      "source": [
        "Můžeme specifikovat jaké osy chceme vykreslit pomocí argumentu `axis`, který může nabývat hodnot `both`, `x`, `y`."
      ]
    },
    {
      "cell_type": "code",
      "execution_count": null,
      "metadata": {
        "id": "-JJZPaQCxf9S"
      },
      "outputs": [],
      "source": [
        "plt.plot(x, y)\n",
        "plt.grid(axis='x')\n",
        "\n",
        "plt.show()"
      ]
    },
    {
      "cell_type": "code",
      "execution_count": null,
      "metadata": {
        "id": "uz0HZpgzxf9T"
      },
      "outputs": [],
      "source": [
        "plt.plot(x, y)\n",
        "plt.grid(axis='y')\n",
        "\n",
        "plt.show()"
      ]
    },
    {
      "cell_type": "markdown",
      "metadata": {
        "id": "TyBKJ7jNxf9T"
      },
      "source": [
        "Obdobně jako tomu bylo u čáry, tak i u mřížky můžeme měnit její styl. Pro změnu stylu gridu se používají argumenty `color`, `linestyle`, `linewidth`."
      ]
    },
    {
      "cell_type": "code",
      "execution_count": null,
      "metadata": {
        "id": "H0ejMqc5xf9T"
      },
      "outputs": [],
      "source": [
        "plt.plot(x, y)\n",
        "\n",
        "plt.grid(color='green', linestyle='--', linewidth=0.5)\n",
        "\n",
        "plt.show()"
      ]
    },
    {
      "cell_type": "markdown",
      "metadata": {
        "id": "T5kURhOlxf9U"
      },
      "source": [
        "# Subplot\n",
        "Funkce `subplot()` nám umožňuje vykreslit více grafů na jeden plot.\n",
        "\n",
        "Funkce `subplot()` bere 3 argumenty:\n",
        "- kolik grafů chceme vykreslit na ose x\n",
        "- koli grafů chceme vykreslit na ose y\n",
        "- index plotu, který vykreslujeme\n",
        "\n",
        "Tuto pozici musíme specifikovat před každým voláním funkce `plot()`."
      ]
    },
    {
      "cell_type": "code",
      "execution_count": null,
      "metadata": {
        "id": "leTCOHPGxf9U"
      },
      "outputs": [],
      "source": [
        "plt.subplot(1, 2, 1)\n",
        "# tento subplot obsahuje 1 řádek, 2 sloupce a vykreslujeme plot 1\n",
        "\n",
        "plt.subplot(1, 2, 2)\n",
        "# tento subplot obsahuje 1 řádek, 2 sloupce a vykreslujeme plot 2\n",
        "\n",
        "plt.subplot(2, 1, 1)\n",
        "# tento subplot obsahuje 2 řádky, 1 sloupec a vykreslujeme plot 1\n",
        "\n",
        "plt.subplot(2, 1, 2)\n",
        "# tento subplot obsahuje 2 řádky, 1 sloupec a vykreslujeme plot 2\n",
        "\n",
        "# ! indexování subplotů začíná od 1, ne od 0"
      ]
    },
    {
      "cell_type": "code",
      "execution_count": null,
      "metadata": {
        "id": "o77VtYTExf9V"
      },
      "outputs": [],
      "source": [
        "#plot 1:\n",
        "x = np.array([0, 1, 2, 3])\n",
        "y = np.array([3, 8, 1, 10])\n",
        "\n",
        "plt.subplot(1, 2, 1)\n",
        "plt.plot(x,y)\n",
        "\n",
        "#plot 2:\n",
        "x = np.array([0, 1, 2, 3])\n",
        "y = np.array([10, 20, 30, 40])\n",
        "\n",
        "plt.subplot(1, 2, 2)\n",
        "plt.plot(x,y)\n",
        "\n",
        "plt.show()"
      ]
    },
    {
      "cell_type": "code",
      "execution_count": null,
      "metadata": {
        "id": "pFGHx8S-xf9V"
      },
      "outputs": [],
      "source": [
        "plt.subplot(1, 2, 1)\n",
        "# tento subplot obsahuje 1 řádek, 2 sloupce a vykreslujeme plot 1\n",
        "\n",
        "plt.subplot(1, 2, 2)\n",
        "# tento subplot obsahuje 1 řádek, 2 sloupce a vykreslujeme plot 2\n",
        "\n",
        "plt.subplot(2, 1, 1)\n",
        "# tento subplot obsahuje 2 řádky, 1 sloupec a vykreslujeme plot 1\n",
        "\n",
        "plt.subplot(2, 1, 2)\n",
        "# tento subplot obsahuje 2 řádky, 1 sloupec a vykreslujeme plot 2\n",
        "\n",
        "# ! indexování subplotů začíná od 1, ne od 0"
      ]
    },
    {
      "cell_type": "markdown",
      "metadata": {
        "id": "ajWzc9Eixf9W"
      },
      "source": [
        "Pokud otočíme předchozí příklad, graf bude vypada následovně."
      ]
    },
    {
      "cell_type": "code",
      "execution_count": null,
      "metadata": {
        "id": "c41Ey-nkxf9X"
      },
      "outputs": [],
      "source": [
        "#plot 1:\n",
        "x = np.array([0, 1, 2, 3])\n",
        "y = np.array([3, 8, 1, 10])\n",
        "\n",
        "plt.subplot(2, 1, 1)\n",
        "plt.plot(x,y)\n",
        "\n",
        "#plot 2:\n",
        "x = np.array([0, 1, 2, 3])\n",
        "y = np.array([10, 20, 30, 40])\n",
        "\n",
        "plt.subplot(2, 1, 2)\n",
        "plt.plot(x,y)\n",
        "\n",
        "plt.show()"
      ]
    },
    {
      "cell_type": "markdown",
      "metadata": {
        "id": "-UQBkpl2xf9X"
      },
      "source": [
        "Subplot může teoreticky obsahovat nekonečné množství plotů. Problém nastane s přehledností, protože s každým dalším plotem se zmenší velikost zbylých plotů."
      ]
    },
    {
      "cell_type": "code",
      "execution_count": null,
      "metadata": {
        "id": "GusyWzU4xf9X"
      },
      "outputs": [],
      "source": [
        "x = np.array([0, 1, 2, 3])\n",
        "y = np.array([3, 8, 1, 10])\n",
        "\n",
        "plt.subplot(2, 3, 1)\n",
        "plt.plot(x,y)\n",
        "\n",
        "x = np.array([0, 1, 2, 3])\n",
        "y = np.array([10, 20, 30, 40])\n",
        "\n",
        "plt.subplot(2, 3, 2)\n",
        "plt.plot(x,y)\n",
        "\n",
        "x = np.array([0, 1, 2, 3])\n",
        "y = np.array([3, 8, 1, 10])\n",
        "\n",
        "plt.subplot(2, 3, 3)\n",
        "plt.plot(x,y)\n",
        "\n",
        "x = np.array([0, 1, 2, 3])\n",
        "y = np.array([10, 20, 30, 40])\n",
        "\n",
        "plt.subplot(2, 3, 4)\n",
        "plt.plot(x,y)\n",
        "\n",
        "x = np.array([0, 1, 2, 3])\n",
        "y = np.array([3, 8, 1, 10])\n",
        "\n",
        "plt.subplot(2, 3, 5)\n",
        "plt.plot(x,y)\n",
        "\n",
        "x = np.array([0, 1, 2, 3])\n",
        "y = np.array([10, 20, 30, 40])\n",
        "\n",
        "plt.subplot(2, 3, 6)\n",
        "plt.plot(x,y)\n",
        "\n",
        "plt.show()"
      ]
    },
    {
      "cell_type": "markdown",
      "metadata": {
        "id": "mtJ17qeSxf9X"
      },
      "source": [
        "## Nadpis\n",
        "Každý plot může mít nadpis a popisek os, které můžeme nastavit pomocí funkcí `title()` a `xlabel()`, `ylabel()`."
      ]
    },
    {
      "cell_type": "code",
      "execution_count": null,
      "metadata": {
        "id": "r-qbDYh5xf9X"
      },
      "outputs": [],
      "source": [
        "#plot 1:\n",
        "x = np.array([0, 1, 2, 3])\n",
        "y = np.array([3, 8, 1, 10])\n",
        "\n",
        "plt.subplot(1, 2, 1)\n",
        "plt.plot(x,y)\n",
        "plt.title(\"Nadpis 1\")\n",
        "plt.xlabel(\"Osa x 1\")\n",
        "plt.ylabel(\"Osa y 1\")\n",
        "\n",
        "#plot 2:\n",
        "x = np.array([0, 1, 2, 3])\n",
        "y = np.array([10, 20, 30, 40])\n",
        "\n",
        "plt.subplot(1, 2, 2)\n",
        "plt.plot(x,y)\n",
        "plt.title(\"Nadpis 2\")\n",
        "plt.xlabel(\"Osa x 2\")\n",
        "plt.ylabel(\"Osa y 2\")\n",
        "plt.show()"
      ]
    },
    {
      "cell_type": "markdown",
      "metadata": {
        "id": "aZ2vBt_exf9X"
      },
      "source": [
        "I subplot jako takový může mít svůj nadpis, který můžeme nastavit pomocí funkce `suptitle()`."
      ]
    },
    {
      "cell_type": "code",
      "execution_count": null,
      "metadata": {
        "id": "6V7aptrZxf9X"
      },
      "outputs": [],
      "source": [
        "#plot 1:\n",
        "x = np.array([0, 1, 2, 3])\n",
        "y = np.array([3, 8, 1, 10])\n",
        "\n",
        "plt.subplot(1, 2, 1)\n",
        "plt.plot(x,y)\n",
        "plt.title(\"Projede\")\n",
        "\n",
        "#plot 2:\n",
        "x = np.array([0, 1, 2, 3])\n",
        "y = np.array([10, 20, 30, 40])\n",
        "\n",
        "plt.subplot(1, 2, 2)\n",
        "plt.plot(x,y)\n",
        "plt.title(\"Příjem\")\n",
        "\n",
        "plt.suptitle(\"Můj obchod\")\n",
        "plt.show()"
      ]
    },
    {
      "cell_type": "markdown",
      "metadata": {
        "id": "bUuKaAZQxf9Y"
      },
      "source": [
        "# `scatter()`\n",
        "`scatter()` je funkce která vykreslí bod na grafu ke každému záznamu. Tato fuknce bere 2 pole o stejné délce, jedno pro osu x a jedno pro osu y"
      ]
    },
    {
      "cell_type": "code",
      "execution_count": null,
      "metadata": {
        "id": "uY0qBwwbxf9Y"
      },
      "outputs": [],
      "source": [
        "x = np.array([5,7,8,7,2,17,2,9,4,11,12,9,6])\n",
        "y = np.array([99,86,87,88,111,86,103,87,94,78,77,85,86])\n",
        "\n",
        "plt.scatter(x, y)\n",
        "plt.show()"
      ]
    },
    {
      "cell_type": "markdown",
      "metadata": {
        "id": "fXtx3iF3xf9Y"
      },
      "source": [
        "Příklad nahoře může být výsledek pozorování 13 projíždějících aut.\n",
        "\n",
        "Osa x je stáří auta a osa y rychlost jako projeli"
      ]
    },
    {
      "cell_type": "code",
      "execution_count": null,
      "metadata": {
        "id": "KCTU52thxf9Y"
      },
      "outputs": [],
      "source": [
        "plt.scatter(x, y)\n",
        "plt.xlabel(\"Stáří auta [roky]\")\n",
        "plt.ylabel(\"Rychlost [km/s]\")\n",
        "plt.show()"
      ]
    },
    {
      "cell_type": "markdown",
      "metadata": {
        "id": "YufCk1JKxf9Z"
      },
      "source": [
        "Výsledek z tohoto pozorování může být, že čím novější auto tím rychleji jelo.\n",
        "\n",
        "To ale může být náhoda, máme poměrně malý vzorek dat (13 aut)"
      ]
    },
    {
      "cell_type": "code",
      "execution_count": null,
      "metadata": {
        "id": "0tI-czrvxf9Z"
      },
      "outputs": [],
      "source": [
        "# měření z dne 1\n",
        "x = np.array([5,7,8,7,2,17,2,9,4,11,12,9,6])\n",
        "y = np.array([99,86,87,88,111,86,103,87,94,78,77,85,86])\n",
        "plt.scatter(x, y)\n",
        "\n",
        "# měření z dne 2\n",
        "x = np.array([2,2,8,1,15,8,12,9,7,3,11,4,7,14,12])\n",
        "y = np.array([100,105,84,105,90,99,90,95,94,100,79,112,91,80,85])\n",
        "plt.scatter(x, y)\n",
        "\n",
        "plt.xlabel(\"Stáří auta [roky]\")\n",
        "plt.ylabel(\"Rychlost [km/s]\")\n",
        "\n",
        "plt.show()"
      ]
    },
    {
      "cell_type": "markdown",
      "metadata": {
        "id": "qtgD53UKxf9a"
      },
      "source": [
        "S dalšími daty z nového dne, tentokrát máme 15 vzorků, můžeme poměrně s jistotou říct, že čím novější auto tím rychleji jelo."
      ]
    },
    {
      "cell_type": "markdown",
      "metadata": {
        "id": "toIooKyPxf9a"
      },
      "source": [
        "## Barvy\n",
        "Pro každý vzorek dat můžeme zvolit jinou barvu, barva se mění argumentem `c` (color). Barvy můžeme specifikovat pomocí názvu barvy nebo pomocí hexadecimálního kódu."
      ]
    },
    {
      "cell_type": "code",
      "execution_count": null,
      "metadata": {
        "id": "Ue4L70Wnxf9a"
      },
      "outputs": [],
      "source": [
        "x = np.array([5,7,8,7,2,17,2,9,4,11,12,9,6])\n",
        "y = np.array([99,86,87,88,111,86,103,87,94,78,77,85,86])\n",
        "plt.scatter(x, y, color='hotpink')\n",
        "\n",
        "x = np.array([2,2,8,1,15,8,12,9,7,3,11,4,7,14,12])\n",
        "y = np.array([100,105,84,105,90,99,90,95,94,100,79,112,91,80,85])\n",
        "plt.scatter(x, y, c='#88c999')\n",
        "\n",
        "plt.show()"
      ]
    },
    {
      "cell_type": "markdown",
      "metadata": {
        "id": "9Ezhz4X1xf9a"
      },
      "source": [
        "Můžeme nastavit sadu barev pokud je do argumentu `c` dáme jako pole"
      ]
    },
    {
      "cell_type": "code",
      "execution_count": null,
      "metadata": {
        "id": "2F8pPaZuxf9b"
      },
      "outputs": [],
      "source": [
        "x = np.array([5,7,8,7,2,17,2,9,4,11,12,9,6])\n",
        "y = np.array([99,86,87,88,111,86,103,87,94,78,77,85,86])\n",
        "colors = np.array([\"red\",\"green\",\"blue\",\"yellow\",\"pink\",\"black\",\"orange\",\"purple\",\"beige\",\"brown\",\"gray\",\"cyan\",\"magenta\"])\n",
        "\n",
        "plt.scatter(x, y, c=colors)\n",
        "\n",
        "plt.show()"
      ]
    },
    {
      "cell_type": "markdown",
      "metadata": {
        "id": "4jJtXE9exf9b"
      },
      "source": [
        "## ColorMap\n",
        "Colormapa je barevný rozsah, krerý obsahuje hodnoty od 0 do 100.\n",
        "ColorMapy se používají v případech, kdy chceme zobrazit nějakou hodnotu pomocí barvy, například teplotu, výšku, atd.\n",
        "\n",
        "Colormapu nastavíme argumentem `cmap`"
      ]
    },
    {
      "cell_type": "code",
      "execution_count": null,
      "metadata": {
        "id": "2gDWBRCdxf9b"
      },
      "outputs": [],
      "source": [
        "import matplotlib.pyplot as plt\n",
        "import numpy as np\n",
        "\n",
        "x = np.array([5,7,8,7,2,17,2,9,4,11,12,9,6])\n",
        "y = np.array([99,86,87,88,111,86,103,87,94,78,77,85,86])\n",
        "\n",
        "# musíme vytvořit pole v rozsahu 0-100, počet prvků = len(x)\n",
        "colors = np.array([0, 10, 20, 30, 40, 45, 50, 55, 60, 70, 80, 90, 100])\n",
        "\n",
        "plt.scatter(x, y, c=colors, cmap='viridis')\n",
        "\n",
        "# plt.colorbar()\n",
        "plt.show()"
      ]
    },
    {
      "cell_type": "markdown",
      "metadata": {
        "id": "vy-0jVMmxf9b"
      },
      "source": [
        "Seznam možných barevných map najdete [zde](https://www.w3schools.com/python/matplotlib_scatter.asp)"
      ]
    },
    {
      "cell_type": "markdown",
      "metadata": {
        "id": "YKoa-PhExf9b"
      },
      "source": [
        "## Změna velikosti\n",
        "Velikost se mění pomocí argumentu `s`. Změna velikosti v tomto případě znamená změnu průměru bodu. Toto se hodí v případě, že máme hodně bodů odpovídajících jedné hodnotě a chceme je od sebe odlišit."
      ]
    },
    {
      "cell_type": "code",
      "execution_count": null,
      "metadata": {
        "id": "eeAy_1N9xf9b"
      },
      "outputs": [],
      "source": [
        "x = np.array([5,7,8,7,2,17,2,9,4,11,12,9,6])\n",
        "y = np.array([99,86,87,88,111,86,103,87,94,78,77,85,86])\n",
        "sizes = np.array([20,50,100,200,500,1000,60,90,10,300,600,800,75])\n",
        "\n",
        "plt.scatter(x, y, s=sizes)\n",
        "\n",
        "plt.show()"
      ]
    },
    {
      "cell_type": "markdown",
      "metadata": {
        "id": "3GL90BGPxf9c"
      },
      "source": [
        "## Alfa kanál\n",
        "Pomocí alfa kanálu jsme schopni přidat do grafů prvek transparentnosti. To se udělpomocí argumentu `alpha`, tento argument může nabívat hodnot od 0 do 1"
      ]
    },
    {
      "cell_type": "code",
      "execution_count": null,
      "metadata": {
        "id": "gzaqtct3xf9c"
      },
      "outputs": [],
      "source": [
        "x = np.array([5,7,8,7,2,17,2,9,4,11,12,9,6])\n",
        "y = np.array([99,86,87,88,111,86,103,87,94,78,77,85,86])\n",
        "sizes = np.array([20,50,100,200,500,1000,60,90,10,300,600,800,75])\n",
        "\n",
        "plt.scatter(x, y, s=sizes, alpha=0.5)\n",
        "\n",
        "plt.show()"
      ]
    },
    {
      "cell_type": "markdown",
      "metadata": {
        "id": "iQ86DBPYxf9c"
      },
      "source": [
        "Samozřejmě je možná kombinace barev a alfa kanálu"
      ]
    },
    {
      "cell_type": "code",
      "execution_count": null,
      "metadata": {
        "id": "pgwhLHCGxf9c"
      },
      "outputs": [],
      "source": [
        "x = np.random.randint(100, size=(100))\n",
        "y = np.random.randint(100, size=(100))\n",
        "colors = np.random.randint(100, size=(100))\n",
        "sizes = 10 * np.random.randint(100, size=(100))\n",
        "\n",
        "plt.scatter(x, y, c=colors, s=sizes, alpha=0.5, cmap='nipy_spectral')\n",
        "\n",
        "plt.colorbar()\n",
        "\n",
        "plt.show()"
      ]
    },
    {
      "cell_type": "markdown",
      "metadata": {
        "id": "tIxeRd6_xf9d"
      },
      "source": [
        "# Cvičení\n",
        "Zde bude následovat série úkolů, díky kterým si můžete ověřit, zda jste látku pochopili.\n",
        "\n",
        "## Cvičení 1\n",
        "Vytvořte graf, který bude identický s grafem níže.\n",
        "\n",
        "![Output](./imgs/grid_subplot_1.png)"
      ]
    },
    {
      "cell_type": "code",
      "execution_count": null,
      "metadata": {
        "id": "OER5B2RUxf9d"
      },
      "outputs": [],
      "source": [
        "# Vygenerování dat\n",
        "x = np.linspace(0, 2*np.pi, 100)\n",
        "y1 = np.sin(x)\n",
        "y2 = np.cos(x)\n",
        "y3 = np.tan(x)\n",
        "\n",
        "# TODO: Zde doplňte kód pro vykreslení grafu\n",
        "\n",
        "# ===== Začátek řešení =========\n",
        "\n",
        "# ===== Konec řešení =========="
      ]
    },
    {
      "cell_type": "markdown",
      "metadata": {
        "id": "BzG2Duvsxf9d"
      },
      "source": [
        "## Cvičení 2\n",
        "Vytvořte graf, který bude identický s grafem níže.\n",
        "\n",
        "![Output](./imgs/grid_subplot_2.png)"
      ]
    },
    {
      "cell_type": "code",
      "execution_count": null,
      "metadata": {
        "id": "6CwgToaBxf9d",
        "outputId": "0502a29b-47bf-4493-d7cf-996429b4f119"
      },
      "outputs": [],
      "source": [
        "# Vygenerování náhodných dat\n",
        "x = np.random.randn(100)\n",
        "y = np.random.randn(100)\n",
        "\n",
        "# TODO: Zde doplňte kód pro vykreslení grafu\n",
        "\n",
        "# ===== Začátek řešení =========\n",
        "\n",
        "# ===== Konec řešení =========="
      ]
    },
    {
      "cell_type": "markdown",
      "metadata": {
        "id": "qa82ElCkxf9d"
      },
      "source": [
        "## Úkol za 1\n",
        "Zadání:\n",
        "V souboru (Prumerna_Teplota.csv), naleznete 3 sloupce s hodnotami průměrné denní teploty pro každý den v roce.\n",
        "Úkolem je zpracování dat pomocí scriptu v Pythonu pomocí knihovny MatPlotLib a vytvoření grafů tak, že:\n",
        "- Obrázek bude vhodně rozdělen tak, aby byly zobrazeny jednotlivé grafy pro každý měsíc, kde bude vykreslena závislost průměrné denní teploty na jednotlivých dnech daného měsíce, zároveň v každém grafu bude vykreslena měsíční průměrná teplota.\n",
        "\n",
        "Graf bude vypadat následovně:\n",
        "\n",
        "![Output](./imgs/grid_subplot_znamka.png)"
      ]
    },
    {
      "cell_type": "code",
      "execution_count": null,
      "metadata": {
        "id": "Y78uosCqxf9e"
      },
      "outputs": [],
      "source": [
        "# načtení dat z csv souboru\n",
        "# ! pozor data jsou ve formátu string\n",
        "data = np.genfromtxt(\"./data/Prumerna_Teplota.csv\", delimiter=\";\", dtype=str)\n",
        "# vypíšeme si hlavičku\n",
        "headers = data[0]\n",
        "\n",
        "# zde jsou samotná data\n",
        "data = data[1::]\n",
        "\n",
        "\n",
        "# TODO: Zde doplňte kód pro vykreslení grafu\n",
        "\n",
        "# ===== Začátek řešení =========\n",
        "\n",
        "# ===== Konec řešení =========="
      ]
    }
  ],
  "metadata": {
    "colab": {
      "include_colab_link": true,
      "provenance": []
    },
    "kernelspec": {
      "display_name": "Python 3",
      "language": "python",
      "name": "python3"
    },
    "language_info": {
      "codemirror_mode": {
        "name": "ipython",
        "version": 3
      },
      "file_extension": ".py",
      "mimetype": "text/x-python",
      "name": "python",
      "nbconvert_exporter": "python",
      "pygments_lexer": "ipython3",
      "version": "3.10.6"
    },
    "orig_nbformat": 4,
    "vscode": {
      "interpreter": {
        "hash": "916dbcbb3f70747c44a77c7bcd40155683ae19c65e1c03b4aa3499c5328201f1"
      }
    }
  },
  "nbformat": 4,
  "nbformat_minor": 0
}
