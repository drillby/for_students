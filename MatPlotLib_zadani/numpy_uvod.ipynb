{
  "cells": [
    {
      "cell_type": "markdown",
      "metadata": {
        "id": "SBaiAH2m0EMn"
      },
      "source": [
        "# NumPy\n",
        "NumPy je knihovna pro práci s vícerozměrnými poli a maticemi. S poli pracuje až 50x rychleji než klasický Python.\n",
        "\n",
        "Její základní datový typ je `ndarray` (n-dimensional array), který je v podstatě pole. Pole jsou v Pythonu implementována jako seznamy, ale v NumPy jsou optimalizována pro práci s čísly. NumPy je základní knihovnou pro vědecké výpočty v Pythonu. Většina knihoven pro vědecké výpočty je postavena na NumPy."
      ]
    },
    {
      "cell_type": "markdown",
      "metadata": {
        "id": "liw4HBVR0EMo"
      },
      "source": [
        "## Instalace\n",
        "Knihovnu NumPy nainstalujeme pomocí příkazu `pip install numpy`."
      ]
    },
    {
      "cell_type": "code",
      "execution_count": null,
      "metadata": {
        "id": "Utfgye130EMp"
      },
      "outputs": [],
      "source": [
        "! pip install numpy"
      ]
    },
    {
      "cell_type": "markdown",
      "metadata": {
        "id": "2nM9CFYg0EMp"
      },
      "source": [
        "## První pole"
      ]
    },
    {
      "cell_type": "code",
      "execution_count": null,
      "metadata": {
        "id": "OE96fzUI0EMp"
      },
      "outputs": [],
      "source": [
        "import numpy as np\n",
        "\n",
        "# Vytvoření pole\n",
        "a = np.array([1, 2, 3, 4, 5])\n",
        "# jako argument může být i tuple\n",
        "\n",
        "# Výpis pole\n",
        "print(a)\n",
        "\n",
        "# Výpis typu pole\n",
        "print(type(a))\n",
        "\n",
        "# Výpis typu prvků pole\n",
        "print(a.dtype)\n",
        "\n",
        "# Výpis počtu prvků pole\n",
        "print(a.size)\n",
        "\n",
        "# Výpis počtu dimenzí pole\n",
        "print(a.ndim)\n",
        "\n",
        "# Výpis tvaru pole\n",
        "print(a.shape)"
      ]
    },
    {
      "cell_type": "markdown",
      "metadata": {
        "id": "fi9CnoZA0EMq"
      },
      "source": [
        "## Dimenze\n",
        "Pole může mít libovolný počet dimenzí. V případě jednorozměrného pole mluvíme o vektoru, v případě dvourozměrného pole o matici."
      ]
    },
    {
      "cell_type": "code",
      "execution_count": null,
      "metadata": {
        "id": "iQ03Ue9-0EMq"
      },
      "outputs": [],
      "source": [
        "# O-D pole\n",
        "nula_dim = np.array(42)\n",
        "print(nula_dim)\n",
        "\n",
        "# 1-D pole\n",
        "jedna_dim = np.array([1, 2, 3, 4, 5])\n",
        "print(jedna_dim)\n",
        "\n",
        "# 2-D pole\n",
        "dve_dim = np.array([[1, 2, 3], [4, 5, 6]])\n",
        "print(dve_dim)\n",
        "\n",
        "# 3-D pole\n",
        "tri_dim = np.array([[[1, 2, 3], [4, 5, 6]], [[7, 8, 9], [10, 11, 12]]])\n",
        "print(tri_dim)\n",
        "\n",
        "# výpis dimenzí pole\n",
        "print(\"Počet dimenzí:\", nula_dim.ndim)\n",
        "print(\"Počet dimenzí:\", jedna_dim.ndim)\n",
        "print(\"Počet dimenzí:\", dve_dim.ndim)\n",
        "print(\"Počet dimenzí:\", tri_dim.ndim)\n",
        "\n",
        "# výpis tvaru pole\n",
        "print(\"Tvar:\", nula_dim.shape)\n",
        "print(\"Tvar:\", jedna_dim.shape)\n",
        "print(\"Tvar:\", dve_dim.shape)\n",
        "print(\"Tvar:\", tri_dim.shape)"
      ]
    },
    {
      "cell_type": "markdown",
      "metadata": {
        "id": "I48f3qKN0EMq"
      },
      "source": [
        "Ve naprosté většině případů budeme pracovat s jednorozměrnými nebo dvourozměrnými poli. Vícerozměrná pole se používají například pro reprezentaci obrázků.\n",
        "\n",
        "Dvourozměrné pole můžeme chápat jako tabulku, kde první index určuje řádek a druhý index určuje sloupec."
      ]
    },
    {
      "cell_type": "markdown",
      "metadata": {
        "id": "XuKu5A7Y0EMq"
      },
      "source": [
        "## Indexování\n",
        "Indexování v poli začíná na nule. Indexy mohou být i záporné, pak se počítá od konce pole. Indexy mohou být i proměnné. Indexovat můžeme i více rozměrů najednou."
      ]
    },
    {
      "cell_type": "code",
      "execution_count": 2,
      "metadata": {
        "colab": {
          "base_uri": "https://localhost:8080/"
        },
        "id": "pBjMnTaT0EMr",
        "outputId": "4d0f8e12-e936-4717-c0fe-b08a3a4ed802"
      },
      "outputs": [
        {
          "output_type": "stream",
          "name": "stdout",
          "text": [
            "1\n",
            "2\n",
            "1\n",
            "2\n",
            "6\n"
          ]
        }
      ],
      "source": [
        "pole = np.array([1, 2, 3, 4, 5])\n",
        "print(pole[0])\n",
        "print(pole[1])\n",
        "\n",
        "# jak můžeme vidět, indexování funguje stejně jako u listů\n",
        "\n",
        "pole = np.array([[1, 2, 3, 4, 5], [6, 7, 8, 9, 10]])\n",
        "print(pole[0, 0])\n",
        "print(pole[0, 1])\n",
        "print(pole[1, 0])\n",
        "\n",
        "# indexování funguje opět jako u listů, jen je potřeba zadat indexy pro každou dimenzi"
      ]
    },
    {
      "cell_type": "markdown",
      "metadata": {
        "id": "KgY-armP0EMr"
      },
      "source": [
        "## Iterace\n",
        "Pole můžeme iterovat pomocí cyklu `for`. V případě dvourozměrného pole iterujeme nejprve přes řádky a poté přes sloupce. Pokud máme více rozměrů, iterujeme nejprve přes první rozměr, poté přes druhý atd."
      ]
    },
    {
      "cell_type": "code",
      "execution_count": null,
      "metadata": {
        "id": "MbWj4Rgz0EMr"
      },
      "outputs": [],
      "source": [
        "# iterace přes pole\n",
        "pole = np.array([1, 2, 3, 4, 5])\n",
        "for x in pole:\n",
        "    print(x)"
      ]
    },
    {
      "cell_type": "code",
      "execution_count": null,
      "metadata": {
        "id": "ukrW04Pj0EMr"
      },
      "outputs": [],
      "source": [
        "# iterace přes 2 dimenzionální pole\n",
        "pole = np.array([[1, 2, 3, 4, 5], [6, 7, 8, 9, 10]])\n",
        "for x in pole:\n",
        "    print(x)\n",
        "\n",
        "# iterace přes jednotlivé prvky\n",
        "for x in pole:\n",
        "    for y in x:\n",
        "        print(y)"
      ]
    },
    {
      "cell_type": "code",
      "execution_count": null,
      "metadata": {
        "id": "UQAWRv4C0EMr"
      },
      "outputs": [],
      "source": [
        "# iterace přes 3 dimenzionální pole\n",
        "pole = np.array([[[1, 2, 3], [4, 5, 6]], [[7, 8, 9], [10, 11, 12]]])\n",
        "for x in pole:\n",
        "    print(x)\n",
        "\n",
        "# iterace přes jednotlivé prvky\n",
        "for x in pole:\n",
        "    for y in x:\n",
        "        for z in y:\n",
        "            print(z)"
      ]
    },
    {
      "cell_type": "markdown",
      "metadata": {
        "id": "hgeltSdK0EMs"
      },
      "source": [
        "Jak je vidět, s iterací přes více dimenzí se zvyšuje počet cyklů. Proto je výhodnější použít funkce, které pracují s celým polem najednou, jako například `nditer`."
      ]
    },
    {
      "cell_type": "code",
      "execution_count": null,
      "metadata": {
        "id": "EnVonJZT0EMs"
      },
      "outputs": [],
      "source": [
        "# iterace přes 1 dimenzionální pole\n",
        "pole = np.array([1, 2, 3, 4, 5])\n",
        "for x in np.nditer(pole):\n",
        "    print(x)"
      ]
    },
    {
      "cell_type": "code",
      "execution_count": null,
      "metadata": {
        "id": "vao-Lgo50EMs"
      },
      "outputs": [],
      "source": [
        "# iterace přes 2 dimenzionální pole\n",
        "pole = np.array([[1, 2, 3, 4, 5], [6, 7, 8, 9, 10]])\n",
        "for x in np.nditer(pole):\n",
        "    print(x)"
      ]
    },
    {
      "cell_type": "code",
      "execution_count": null,
      "metadata": {
        "id": "oGsrhos60EMs"
      },
      "outputs": [],
      "source": [
        "# iterace přes 3 dimenzionální pole\n",
        "pole = np.array([[[1, 2, 3], [4, 5, 6]], [[7, 8, 9], [10, 11, 12]]])\n",
        "for x in np.nditer(pole):\n",
        "    print(x)"
      ]
    },
    {
      "cell_type": "markdown",
      "source": [
        "# Porovnání rychlostí"
      ],
      "metadata": {
        "id": "Y_jJ5IjH1H7c"
      }
    },
    {
      "cell_type": "code",
      "source": [
        "import numpy as np\n",
        "import timeit\n",
        "\n",
        "# Porovnání sčítání\n",
        "python_time = timeit.timeit('sum(range(1000000))', number=100)\n",
        "numpy_time = timeit.timeit('np.sum(np.arange(1000000))', setup='import numpy as np', number=100)\n",
        "\n",
        "print(f\"Python sčítání: {python_time:.5f} sekund\")\n",
        "print(f\"NumPy sčítání: {numpy_time:.5f} sekund\")\n",
        "\n",
        "# Porovnání násobení\n",
        "python_mult_time = timeit.timeit('[x * 2 for x in range(1000000)]', number=100)\n",
        "numpy_mult_time = timeit.timeit('np.arange(1000000) * 2', setup='import numpy as np', number=100)\n",
        "\n",
        "print(f\"Python násobení: {python_mult_time:.5f} sekund\")\n",
        "print(f\"NumPy násobení: {numpy_mult_time:.5f} sekund\")\n",
        "\n",
        "# Porovnání kombinace operací\n",
        "python_combo_time = timeit.timeit('[x**2 + x * 2 for x in range(1000000)]', number=100)\n",
        "numpy_combo_time = timeit.timeit('np.arange(1000000)**2 + np.arange(1000000) * 2', setup='import numpy as np', number=100)\n",
        "\n",
        "print(f\"Python kombinace operací: {python_combo_time:.5f} sekund\")\n",
        "print(f\"NumPy kombinace operací: {numpy_combo_time:.5f} sekund\")"
      ],
      "metadata": {
        "colab": {
          "base_uri": "https://localhost:8080/"
        },
        "id": "hQzE6lbo1HG0",
        "outputId": "f6cd0585-29f3-41eb-f8ea-0be024d75d75"
      },
      "execution_count": 1,
      "outputs": [
        {
          "output_type": "stream",
          "name": "stdout",
          "text": [
            "Python sčítání: 10.70363 sekund\n",
            "NumPy sčítání: 0.24494 sekund\n",
            "Python násobení: 15.90229 sekund\n",
            "NumPy násobení: 0.11477 sekund\n",
            "Python kombinace operací: 43.03204 sekund\n",
            "NumPy kombinace operací: 0.35092 sekund\n"
          ]
        }
      ]
    },
    {
      "cell_type": "markdown",
      "source": [
        "## Načítání dat z CSV souboru pomocí NumPy\n",
        "\n",
        "NumPy umožňuje snadné načítání dat z CSV souborů pomocí funkce `np.genfromtxt`. Ukážeme si, jak načíst data, vyfiltrovat je a provést základní analýzu.\n"
      ],
      "metadata": {
        "id": "Q82pLEN711ak"
      }
    },
    {
      "cell_type": "code",
      "source": [
        "import numpy as np\n",
        "\n",
        "# Vytvoření ukázkového CSV souboru\n",
        "csv_file = 'data.csv'\n",
        "with open(csv_file, 'w') as f:\n",
        "    f.write(\"id,age,salary\\n\")\n",
        "    f.write(\"1,25,50000\\n\")\n",
        "    f.write(\"2,30,60000\\n\")\n",
        "    f.write(\"3,35,70000\\n\")\n",
        "    f.write(\"4,40,80000\\n\")\n",
        "\n",
        "# Načtení dat z CSV\n",
        "data = np.genfromtxt(csv_file, delimiter=',', skip_header=1, dtype=float)\n",
        "\n",
        "# Zpracování dat\n",
        "ages = data[:, 1]    # Sloupec s věky\n",
        "salaries = data[:, 2]  # Sloupec s platy\n",
        "\n",
        "# Výpočet základních statistik\n",
        "print(f\"Průměrný věk: {np.mean(ages):.2f}\")\n",
        "print(f\"Průměrný plat: {np.mean(salaries):.2f}\")\n",
        "\n",
        "# Filtrování dat: vybereme osoby starší 30 let\n",
        "filtered = data[data[:, 1] > 30]\n",
        "print(\"Osoby starší 30 let:\")\n",
        "print(filtered)\n"
      ],
      "metadata": {
        "colab": {
          "base_uri": "https://localhost:8080/"
        },
        "id": "6ZZbVa0L12UE",
        "outputId": "a978b4d0-300f-43de-9707-5ee45eafc8f2"
      },
      "execution_count": 3,
      "outputs": [
        {
          "output_type": "stream",
          "name": "stdout",
          "text": [
            "Průměrný věk: 32.50\n",
            "Průměrný plat: 65000.00\n",
            "Osoby starší 30 let:\n",
            "[[3.0e+00 3.5e+01 7.0e+04]\n",
            " [4.0e+00 4.0e+01 8.0e+04]]\n"
          ]
        }
      ]
    }
  ],
  "metadata": {
    "kernelspec": {
      "display_name": "Python 3",
      "language": "python",
      "name": "python3"
    },
    "language_info": {
      "codemirror_mode": {
        "name": "ipython",
        "version": 3
      },
      "file_extension": ".py",
      "mimetype": "text/x-python",
      "name": "python",
      "nbconvert_exporter": "python",
      "pygments_lexer": "ipython3",
      "version": "3.10.6"
    },
    "orig_nbformat": 4,
    "colab": {
      "provenance": []
    }
  },
  "nbformat": 4,
  "nbformat_minor": 0
}