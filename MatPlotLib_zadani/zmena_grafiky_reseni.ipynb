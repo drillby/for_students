{
  "cells": [
    {
      "cell_type": "markdown",
      "metadata": {
        "colab_type": "text",
        "id": "view-in-github"
      },
      "source": [
        "<a href=\"https://colab.research.google.com/github/JaroslavHolecek/Teaching_Solutions/blob/main/MatPlotLib/zmena_grafiky_reseni.ipynb\" target=\"_parent\"><img src=\"https://colab.research.google.com/assets/colab-badge.svg\" alt=\"Open In Colab\"/></a>"
      ]
    },
    {
      "cell_type": "code",
      "execution_count": null,
      "metadata": {
        "id": "Gm7pQo186pCM"
      },
      "outputs": [],
      "source": [
        "! pip install matplotlib"
      ]
    },
    {
      "cell_type": "markdown",
      "metadata": {
        "id": "RSnXMzwT6pCO"
      },
      "source": [
        "# Markers\n",
        "Markery jsou vizuální reprezentace bodů na grafu. V matplotlibu je možné použít několik typů markerů, které jsou popsány v dokumentaci. Markery jsou nepovinným parametrem funkce plot() a mohou být definovány jako řetězec nebo jako symbol. Některé z možností jsou:\n",
        "\n",
        "    'o' - kruh\n",
        "    's' - čtverec\n",
        "    'D' - diamant\n",
        "    '^' - trojúhelník\n",
        "    'x' - křížek\n",
        "    '+' - plus\n",
        "    '*' - hvězda"
      ]
    },
    {
      "cell_type": "code",
      "execution_count": null,
      "metadata": {
        "id": "7yploEfP6pCT"
      },
      "outputs": [],
      "source": [
        "import matplotlib.pyplot as plt\n",
        "import numpy as np\n",
        "\n",
        "xpoints = np.array([1, 2, 6, 8])\n",
        "ypoints = np.array([3, 8, 1, 10])"
      ]
    },
    {
      "cell_type": "markdown",
      "metadata": {
        "id": "OYpHlRhJ6pCU"
      },
      "source": [
        "Ukázali jsme si možnost vykreslení samostatné čáry"
      ]
    },
    {
      "cell_type": "code",
      "execution_count": null,
      "metadata": {
        "id": "0j9lFUBt6pCV"
      },
      "outputs": [],
      "source": [
        "plt.plot(xpoints, ypoints)\n",
        "plt.show()"
      ]
    },
    {
      "cell_type": "markdown",
      "metadata": {
        "id": "Lbk4CYy16pCV"
      },
      "source": [
        "A možnost zobrazit pouze body"
      ]
    },
    {
      "cell_type": "code",
      "execution_count": null,
      "metadata": {
        "id": "VEIWKc1K6pCW"
      },
      "outputs": [],
      "source": [
        "plt.plot(xpoints, ypoints, \"o\")\n",
        "plt.show()"
      ]
    },
    {
      "cell_type": "markdown",
      "metadata": {
        "id": "Tt8Wr30t6pCW"
      },
      "source": [
        "Abychom zobrazili jak čáru, tak body specifikujeme argumet `marker` a nastavíme mu nějakou hodnotu"
      ]
    },
    {
      "cell_type": "code",
      "execution_count": null,
      "metadata": {
        "id": "PfLt_T1L6pCW"
      },
      "outputs": [],
      "source": [
        "plt.plot(xpoints, ypoints, marker=\"o\")\n",
        "plt.show()"
      ]
    },
    {
      "cell_type": "markdown",
      "metadata": {
        "id": "9Htn_vyr6pCW"
      },
      "source": [
        "Kolečno není jediný marker, který můžeme používat. Následuje krátký seznam možných markerů které můžeme používat."
      ]
    },
    {
      "cell_type": "code",
      "execution_count": null,
      "metadata": {
        "id": "KdPaaaL66pCX"
      },
      "outputs": [],
      "source": [
        "# o - kolečko\n",
        "# * - hvězdička\n",
        "# . - bod\n",
        "# x - X\n",
        "# X - vyplněné X\n",
        "# + - plusko\n",
        "# P - vyplněné plusko\n",
        "# s - čtverec\n",
        "# D - diamant\n",
        "\n",
        "markers = [\"o\", \"*\", \".\", \"x\", \"X\", \"+\", \"P\", \"s\", \"D\"]\n",
        "\n",
        "fig, axs = plt.subplots(3, 3, figsize=(15, 15))\n",
        "for i in range(3):\n",
        "    for j in range(3):\n",
        "        axs[i, j].plot(xpoints, ypoints, marker=markers[3*i+j])\n",
        "        axs[i, j].set_title(markers[3*i+j])"
      ]
    },
    {
      "cell_type": "markdown",
      "metadata": {
        "id": "pKVTo-RV6pCY"
      },
      "source": [
        "[Zde](https://matplotlib.org/stable/api/markers_api.html) jsou všechny možné markery.\n",
        "\n",
        "\n",
        "## Změna vekosti markeru\n",
        "Pro změnu velikosti markeru se používá parametr `ms` (markersize)"
      ]
    },
    {
      "cell_type": "code",
      "execution_count": null,
      "metadata": {
        "id": "THVr7ncm6pCY"
      },
      "outputs": [],
      "source": [
        "import random\n",
        "\n",
        "plt.plot(xpoints, ypoints, marker=random.choice(markers), ms=20)\n",
        "plt.show()"
      ]
    },
    {
      "cell_type": "markdown",
      "metadata": {
        "id": "3mgzKfu86pCY"
      },
      "source": [
        "## Změna barvy markeru\n",
        "\n",
        "Pro změnu barvy markeru se dají použít 2 způsoby `mec` (markeredgeecolor) nebo `mfc` (markerfacecolor).\n",
        "Parametr `mec` mění barvu okraje markeru a `mfc` mění barvu vnitřku markeru."
      ]
    },
    {
      "cell_type": "code",
      "execution_count": null,
      "metadata": {
        "id": "zIhzu9BW6pCZ"
      },
      "outputs": [],
      "source": [
        "plt.plot(xpoints, ypoints, marker=\"o\", mec=\"r\", ms=20)\n",
        "plt.show()"
      ]
    },
    {
      "cell_type": "code",
      "execution_count": null,
      "metadata": {
        "id": "gCumUxjb6pCZ"
      },
      "outputs": [],
      "source": [
        "plt.plot(xpoints, ypoints, marker=\"D\", mfc=\"hotpink\", ms=20)\n",
        "plt.show()"
      ]
    },
    {
      "cell_type": "code",
      "execution_count": null,
      "metadata": {
        "id": "3PKA9pF26pCZ"
      },
      "outputs": [],
      "source": [
        "plt.plot(xpoints, ypoints, marker=\"P\", mec=\"#4CAF50\", mfc=\"#4CAF50\", ms=20)\n",
        "plt.show()"
      ]
    },
    {
      "cell_type": "markdown",
      "metadata": {
        "id": "rO9g5U0K6pCa"
      },
      "source": [
        "# Čára\n",
        "Čára se dá měnit pomocí parametu `ls` (linestyle)"
      ]
    },
    {
      "cell_type": "code",
      "execution_count": null,
      "metadata": {
        "id": "TFKQIvDK6pCa"
      },
      "outputs": [],
      "source": [
        "plt.plot(xpoints, ypoints, ls=\"dotted\")\n",
        "plt.show()"
      ]
    },
    {
      "cell_type": "code",
      "execution_count": null,
      "metadata": {
        "id": "DcLCLLFE6pCa"
      },
      "outputs": [],
      "source": [
        "plt.plot(xpoints, ypoints, ls=\"dashed\")\n",
        "plt.show()"
      ]
    },
    {
      "cell_type": "markdown",
      "metadata": {
        "id": "lTJzNKCh6pCb"
      },
      "source": [
        "Slova dotted a dashed lze nahradit za kratší zápis `:` a `--`\n",
        "Existuje ještě `-.` tento znak zobrazuje čerchovanou čáru."
      ]
    },
    {
      "cell_type": "code",
      "execution_count": null,
      "metadata": {
        "id": "Wd_cyrhO6pCb"
      },
      "outputs": [],
      "source": [
        "plt.plot(xpoints, ypoints, ls=\":\")\n",
        "plt.show()"
      ]
    },
    {
      "cell_type": "markdown",
      "metadata": {
        "id": "ElWyC9ny6pCb"
      },
      "source": [
        "## Změna barvy čáry\n",
        "\n",
        "Pro změnu barvy se používá atribut `c` (color)"
      ]
    },
    {
      "cell_type": "code",
      "execution_count": null,
      "metadata": {
        "id": "zRE_l8V56pCc"
      },
      "outputs": [],
      "source": [
        "plt.plot(xpoints, ypoints, c=\"#4CAF50\")\n",
        "plt.show()"
      ]
    },
    {
      "cell_type": "markdown",
      "metadata": {
        "id": "xPrvRifU6pCc"
      },
      "source": [
        "## Změna tloušťky čáry\n",
        "\n",
        "Tloušťka čáry se mění pomocí artributu `lw` (linewidth)"
      ]
    },
    {
      "cell_type": "code",
      "execution_count": null,
      "metadata": {
        "id": "eqeKJH7k6pCc"
      },
      "outputs": [],
      "source": [
        "plt.plot(xpoints, ypoints, lw=20)\n",
        "plt.show()"
      ]
    },
    {
      "cell_type": "markdown",
      "metadata": {
        "id": "bLJZWrMw6pCc"
      },
      "source": [
        "# Format strings - ftm\n",
        "Ke specifikaci barvy, stylu čáry a stulu markeru lze použít ftm string.\n",
        "Tento způsob zápisu vypadá takto: marker|line|color\n",
        "\n",
        "Jedná se o jednodušší zápis, který nám umožňuje specifikovat všechny atributy najednou."
      ]
    },
    {
      "cell_type": "code",
      "execution_count": null,
      "metadata": {
        "id": "dio-Nmf46pCc"
      },
      "outputs": [],
      "source": [
        "plt.plot(xpoints, ypoints, \"s-.g\")\n",
        "plt.show()"
      ]
    },
    {
      "cell_type": "markdown",
      "metadata": {
        "id": "AN4dxl--6pCc"
      },
      "source": [
        "# Více čar na jednom plotu\n",
        "\n",
        "Existuje několik způsobů jak vykreslit více čar na jednom grafu.\n",
        "Je možné použít více volání funkce `plot()` nebo specifikovat více sloupců v jednom volání funkce `plot()`.\n",
        "\n",
        "## Více volání funkce plot()"
      ]
    },
    {
      "cell_type": "code",
      "execution_count": null,
      "metadata": {
        "id": "J1GwFU6X6pCd"
      },
      "outputs": [],
      "source": [
        "x1 = np.array([0, 1, 2, 3])\n",
        "y1 = np.array([3, 8, 1, 10])\n",
        "x2 = np.array([0, 1, 2, 3])\n",
        "y2 = np.array([6, 2, 7, 11])\n",
        "x3 = np.array([0, 1, 2, 3])\n",
        "y3 = np.array([10, 6, 1, 8])\n",
        "\n",
        "plt.plot(x1, y1)\n",
        "plt.plot(x2, y2)\n",
        "plt.plot(x3, y3)\n",
        "plt.show()"
      ]
    },
    {
      "cell_type": "markdown",
      "metadata": {
        "id": "dWBFHPJbx7U0"
      },
      "source": [
        "Pokud cheme specifikovat vlastnosti čar, můžeme to udělat tímto způsobem."
      ]
    },
    {
      "cell_type": "code",
      "execution_count": null,
      "metadata": {
        "id": "4UXa3geox7U0"
      },
      "outputs": [],
      "source": [
        "plt.plot(x1, y1, \"o:r\")\n",
        "plt.plot(x2, y2, \"*--g\")\n",
        "plt.plot(x3, y3, \"s-.b\")\n",
        "plt.show()"
      ]
    },
    {
      "cell_type": "markdown",
      "metadata": {
        "id": "PcWJUPgKx7U0"
      },
      "source": [
        "Samozřejmě je možné použít pouze souřadnici `y` a `x` vynechat."
      ]
    },
    {
      "cell_type": "code",
      "execution_count": null,
      "metadata": {
        "id": "PV7Sb02ax7U0"
      },
      "outputs": [],
      "source": [
        "plt.plot(y1, \"o:r\")\n",
        "plt.plot(y2, \"*--g\")\n",
        "plt.plot(y3, \"s-.b\")\n",
        "plt.show()"
      ]
    },
    {
      "cell_type": "markdown",
      "metadata": {
        "id": "yWv7vuFUx7U1"
      },
      "source": [
        "Další možností je použít pouze jedno volání funkce plot a všechny atributy specifikovat v jedné funkci."
      ]
    },
    {
      "cell_type": "code",
      "execution_count": null,
      "metadata": {
        "id": "Qu6gT0yjx7U1"
      },
      "outputs": [],
      "source": [
        "plt.plot(x1, y1, x2, y2, x3, y3)\n",
        "plt.show()"
      ]
    },
    {
      "cell_type": "markdown",
      "metadata": {
        "id": "ogQPO5qGx7U1"
      },
      "source": [
        "Stylizace čar v tomto případě vypadá takto"
      ]
    },
    {
      "cell_type": "code",
      "execution_count": null,
      "metadata": {
        "id": "THRXMPkkx7U1"
      },
      "outputs": [],
      "source": [
        "plt.plot(x1, y1, \"o:r\", x2, y2, \"*--g\", x3, y3, \"s-.b\")\n",
        "plt.show()"
      ]
    },
    {
      "cell_type": "markdown",
      "metadata": {
        "id": "bhdoX5twx7U1"
      },
      "source": [
        "**Pozor**, pokud specifikujeme více čar v jednom volání funkce plot, musíme použít obě souřadnice `x` a `y`. Pokud bychom použili pouze jednu souřadnici, výsledky budou zkreslené."
      ]
    },
    {
      "cell_type": "code",
      "execution_count": null,
      "metadata": {
        "id": "aXjYoT-q6pCd"
      },
      "outputs": [],
      "source": [
        "y1 = np.array([3, 8, 1, 10])\n",
        "y2 = np.array([6, 2, 7, 11])\n",
        "\n",
        "plt.plot(y1, y2)\n",
        "plt.show()"
      ]
    },
    {
      "cell_type": "markdown",
      "metadata": {
        "id": "jxXdJJaf6pCd"
      },
      "source": [
        "Při zobrazování více čar na jednom plotu pole nemuí být stejně dlouhé"
      ]
    },
    {
      "cell_type": "code",
      "execution_count": null,
      "metadata": {
        "id": "uS6PqLjL6pCd"
      },
      "outputs": [],
      "source": [
        "x1 = np.array([0, 1, 2, 3])\n",
        "y1 = np.array([3, 8, 1, 10])\n",
        "x2 = np.array([0, 1, 2, 3, 4])\n",
        "y2 = np.array([6, 2, 7, 11, 13])\n",
        "\n",
        "plt.plot(x1, y1, x2, y2)\n",
        "\n",
        "plt.show()"
      ]
    },
    {
      "cell_type": "markdown",
      "metadata": {
        "id": "XFvm6Ylm6pCe"
      },
      "source": [
        "# Popisky\n",
        "\n",
        "Samotné grafy jsou nic neříkající, proto je dobré je popsat. K tomu slouží funkce `title()` a `xlabel()` a `ylabel()`"
      ]
    },
    {
      "cell_type": "code",
      "execution_count": null,
      "metadata": {
        "id": "Rxy3Fsnn6pCe"
      },
      "outputs": [],
      "source": [
        "plt.title(\"Uběhlé kilometry\")\n",
        "plt.xlabel(\"Počet hodin\")\n",
        "plt.ylabel(\"počet kilometrů\")\n",
        "\n",
        "plt.plot(xpoints, ypoints)\n",
        "plt.show()"
      ]
    },
    {
      "cell_type": "markdown",
      "metadata": {
        "id": "PrQy34EGx7U3"
      },
      "source": [
        "Pro texty můžeme specifikovat parametry jako jsou velikost písma, barva, zarovnání, atd.\n",
        "\n",
        "To můžeme udělat pomocí parametru `fontsize` a `color`, které jsou dostupné pro všechny 3 funkce.\n",
        "Jednodušší způsob je použít slovník `fontdict`, který obsahuje všechny parametry."
      ]
    },
    {
      "cell_type": "code",
      "execution_count": null,
      "metadata": {
        "id": "2Ft7lKqO6pCe"
      },
      "outputs": [],
      "source": [
        "font1 = {'family':'serif','color':'blue','size':20}\n",
        "font2 = {'family':'serif','color':'darkred','size':15}\n",
        "\n",
        "\n",
        "plt.title(\"Nadpis\", fontdict=font1)\n",
        "plt.xlabel(\"popisek x\", fontdict=font2)\n",
        "plt.ylabel(\"popisek y\", fontdict=font2)\n",
        "\n",
        "plt.plot(xpoints, ypoints)\n",
        "plt.show()"
      ]
    },
    {
      "cell_type": "markdown",
      "metadata": {
        "id": "BodoFshMx7U4"
      },
      "source": [
        "Pro změnu polohy popisku se používá parametr `loc` (location)"
      ]
    },
    {
      "cell_type": "code",
      "execution_count": null,
      "metadata": {
        "id": "S6U54xFC6pCe"
      },
      "outputs": [],
      "source": [
        "font1 = {'family':'serif','color':'blue','size':20}\n",
        "font2 = {'family':'serif','color':'darkred','size':15}\n",
        "\n",
        "\n",
        "plt.title(\"Vlevo\", fontdict=font1, loc=\"left\")\n",
        "plt.title(\"Střed\", fontdict=font1, loc=\"center\")\n",
        "plt.title(\"Vpravo\", fontdict=font1, loc=\"right\")\n",
        "\n",
        "plt.xlabel(\"popisek x\", fontdict=font2)\n",
        "plt.ylabel(\"popisek y\", fontdict=font2)\n",
        "\n",
        "plt.plot(xpoints, ypoints)\n",
        "plt.show()\n"
      ]
    },
    {
      "cell_type": "markdown",
      "metadata": {
        "id": "f3o4ja44x7U5"
      },
      "source": [
        "S použitím popisků os a titulku vypadá náš graf takto."
      ]
    },
    {
      "cell_type": "code",
      "execution_count": null,
      "metadata": {
        "id": "wlDaecR0mWsx"
      },
      "outputs": [],
      "source": [
        "I = [0, 10, 20, 30, 40, 50, 60] # mA\n",
        "U = [12, 10.75, 9.55, 8.3, 7.06, 5.7, 4.5] # V\n",
        "\n",
        "# zobrazit zátěžovou charakteristiku U=f(I)\n",
        "\n",
        "I = np.array(I)\n",
        "U = np.array(U)\n",
        "\n",
        "plt.title(\"Zátěžová charakteristika U=f(I)\")\n",
        "plt.xlabel(\"Proud [mA]\")\n",
        "plt.ylabel(\"Napětí [V]\")\n",
        "\n",
        "plt.plot(I, U, marker=\"+\", label=\"Zátěžová charakteristika\")\n",
        "plt.legend()\n",
        "plt.show()"
      ]
    },
    {
      "cell_type": "markdown",
      "metadata": {
        "id": "DSBpMdoex7U6"
      },
      "source": [
        "Graf nyní dává mnohem větší smysl.\n",
        "\n",
        "# Cvičení\n",
        "Zde bude následovat série úkolů, díky kterým si můžete ověřit, zda jste látku pochopili.\n",
        "\n",
        "## Cvičení 1\n",
        "Vytvořte graf, který bude identický s grafem níže.\n",
        "\n",
        "![Output](imgs/zmena_grafiky_1.png)"
      ]
    },
    {
      "cell_type": "code",
      "execution_count": null,
      "metadata": {
        "id": "OIAxhCs2x7U7",
        "outputId": "075e64c3-bde6-4b96-b13c-dd456083a5bf"
      },
      "outputs": [],
      "source": [
        "# Vygenerování dat\n",
        "# funkce linespace vytvoří pole 100 hodnot od 0 do 10, které jsou rovnoměrně rozloženy\n",
        "x = np.linspace(0, 10, 100)\n",
        "y1 = np.sin(x)\n",
        "y2 = np.cos(x)\n",
        "\n",
        "# TODO: zde doplňte kód pro vykreslení grafu\n"
      ]
    },
    {
      "cell_type": "markdown",
      "metadata": {
        "id": "5JzDLUA-x7U7"
      },
      "source": [
        "## Cvičení 2\n",
        "Vytvořte graf, který bude identický s grafem níže.\n",
        "\n",
        "![Output](imgs/zmena_grafiky_2.png)"
      ]
    },
    {
      "cell_type": "code",
      "execution_count": null,
      "metadata": {
        "id": "CoyWSYxEx7U7",
        "outputId": "47780a75-7e33-4a15-ad8a-7aa45e49bb89"
      },
      "outputs": [],
      "source": [
        "# Vygenerování dat\n",
        "x = np.linspace(0, 10, 100)\n",
        "y = np.sin(x)\n",
        "\n",
        "\n",
        "# TODO: zde doplňte kód pro vykreslení grafu"
      ]
    },
    {
      "cell_type": "markdown",
      "metadata": {
        "id": "5rdzlBMnx7U8"
      },
      "source": [
        "## Cvičení 3\n",
        "Vytvořte graf, který bude identický s grafem níže.\n",
        "\n",
        "![Output](imgs/zmena_grafiky_3.png)"
      ]
    },
    {
      "cell_type": "code",
      "execution_count": null,
      "metadata": {
        "id": "zBTmkik_x7U8"
      },
      "outputs": [],
      "source": [
        "# Hodnoty rezistoru, kapacity a napájecího napětí\n",
        "R = 150_000  # Ohm\n",
        "C = 5e-6  # Farad\n",
        "U = 12  # Volt\n",
        "\n",
        "# Rozsah času a počet bodů\n",
        "t = np.linspace(0, 5, 100)\n",
        "\n",
        "# TODO: zde doplňte kód pro výpočet napětí na kondenzátoru a jeho vykreslení"
      ]
    }
  ],
  "metadata": {
    "colab": {
      "include_colab_link": true,
      "provenance": []
    },
    "gpuClass": "standard",
    "kernelspec": {
      "display_name": "Python 3",
      "language": "python",
      "name": "python3"
    },
    "language_info": {
      "codemirror_mode": {
        "name": "ipython",
        "version": 3
      },
      "file_extension": ".py",
      "mimetype": "text/x-python",
      "name": "python",
      "nbconvert_exporter": "python",
      "pygments_lexer": "ipython3",
      "version": "3.10.6"
    },
    "orig_nbformat": 4,
    "vscode": {
      "interpreter": {
        "hash": "916dbcbb3f70747c44a77c7bcd40155683ae19c65e1c03b4aa3499c5328201f1"
      }
    }
  },
  "nbformat": 4,
  "nbformat_minor": 0
}
